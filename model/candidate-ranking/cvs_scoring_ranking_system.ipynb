{
  "nbformat": 4,
  "nbformat_minor": 0,
  "metadata": {
    "colab": {
      "provenance": []
    },
    "kernelspec": {
      "name": "python3",
      "display_name": "Python 3"
    },
    "language_info": {
      "name": "python"
    },
    "widgets": {
      "application/vnd.jupyter.widget-state+json": {
        "d28efc76c68c459994b2bdba140fa5a9": {
          "model_module": "@jupyter-widgets/controls",
          "model_name": "HBoxModel",
          "model_module_version": "1.5.0",
          "state": {
            "_dom_classes": [],
            "_model_module": "@jupyter-widgets/controls",
            "_model_module_version": "1.5.0",
            "_model_name": "HBoxModel",
            "_view_count": null,
            "_view_module": "@jupyter-widgets/controls",
            "_view_module_version": "1.5.0",
            "_view_name": "HBoxView",
            "box_style": "",
            "children": [
              "IPY_MODEL_d65f6adb58a7486aafac1890a1f0cfac",
              "IPY_MODEL_7c1c37694f3c4badbb82955fc85c797b",
              "IPY_MODEL_8460d4d4985349a281d961dbd0a7a84c"
            ],
            "layout": "IPY_MODEL_72bb9b37781b409d940132eb63bcd6b7"
          }
        },
        "d65f6adb58a7486aafac1890a1f0cfac": {
          "model_module": "@jupyter-widgets/controls",
          "model_name": "HTMLModel",
          "model_module_version": "1.5.0",
          "state": {
            "_dom_classes": [],
            "_model_module": "@jupyter-widgets/controls",
            "_model_module_version": "1.5.0",
            "_model_name": "HTMLModel",
            "_view_count": null,
            "_view_module": "@jupyter-widgets/controls",
            "_view_module_version": "1.5.0",
            "_view_name": "HTMLView",
            "description": "",
            "description_tooltip": null,
            "layout": "IPY_MODEL_9c213672106d460388580b45363b96a0",
            "placeholder": "​",
            "style": "IPY_MODEL_fd58af6982f24a0abe05669bb41301da",
            "value": "config.json: 100%"
          }
        },
        "7c1c37694f3c4badbb82955fc85c797b": {
          "model_module": "@jupyter-widgets/controls",
          "model_name": "FloatProgressModel",
          "model_module_version": "1.5.0",
          "state": {
            "_dom_classes": [],
            "_model_module": "@jupyter-widgets/controls",
            "_model_module_version": "1.5.0",
            "_model_name": "FloatProgressModel",
            "_view_count": null,
            "_view_module": "@jupyter-widgets/controls",
            "_view_module_version": "1.5.0",
            "_view_name": "ProgressView",
            "bar_style": "success",
            "description": "",
            "description_tooltip": null,
            "layout": "IPY_MODEL_16765cdf24b1445abac13e3d658dbdbb",
            "max": 570,
            "min": 0,
            "orientation": "horizontal",
            "style": "IPY_MODEL_ad4252ccc3c44fc9b81b88cd2b592507",
            "value": 570
          }
        },
        "8460d4d4985349a281d961dbd0a7a84c": {
          "model_module": "@jupyter-widgets/controls",
          "model_name": "HTMLModel",
          "model_module_version": "1.5.0",
          "state": {
            "_dom_classes": [],
            "_model_module": "@jupyter-widgets/controls",
            "_model_module_version": "1.5.0",
            "_model_name": "HTMLModel",
            "_view_count": null,
            "_view_module": "@jupyter-widgets/controls",
            "_view_module_version": "1.5.0",
            "_view_name": "HTMLView",
            "description": "",
            "description_tooltip": null,
            "layout": "IPY_MODEL_6e29621960784c73b962c86c88a91f13",
            "placeholder": "​",
            "style": "IPY_MODEL_ab5feaad3ff147f09d45d18d5946feca",
            "value": " 570/570 [00:00&lt;00:00, 30.5kB/s]"
          }
        },
        "72bb9b37781b409d940132eb63bcd6b7": {
          "model_module": "@jupyter-widgets/base",
          "model_name": "LayoutModel",
          "model_module_version": "1.2.0",
          "state": {
            "_model_module": "@jupyter-widgets/base",
            "_model_module_version": "1.2.0",
            "_model_name": "LayoutModel",
            "_view_count": null,
            "_view_module": "@jupyter-widgets/base",
            "_view_module_version": "1.2.0",
            "_view_name": "LayoutView",
            "align_content": null,
            "align_items": null,
            "align_self": null,
            "border": null,
            "bottom": null,
            "display": null,
            "flex": null,
            "flex_flow": null,
            "grid_area": null,
            "grid_auto_columns": null,
            "grid_auto_flow": null,
            "grid_auto_rows": null,
            "grid_column": null,
            "grid_gap": null,
            "grid_row": null,
            "grid_template_areas": null,
            "grid_template_columns": null,
            "grid_template_rows": null,
            "height": null,
            "justify_content": null,
            "justify_items": null,
            "left": null,
            "margin": null,
            "max_height": null,
            "max_width": null,
            "min_height": null,
            "min_width": null,
            "object_fit": null,
            "object_position": null,
            "order": null,
            "overflow": null,
            "overflow_x": null,
            "overflow_y": null,
            "padding": null,
            "right": null,
            "top": null,
            "visibility": null,
            "width": null
          }
        },
        "9c213672106d460388580b45363b96a0": {
          "model_module": "@jupyter-widgets/base",
          "model_name": "LayoutModel",
          "model_module_version": "1.2.0",
          "state": {
            "_model_module": "@jupyter-widgets/base",
            "_model_module_version": "1.2.0",
            "_model_name": "LayoutModel",
            "_view_count": null,
            "_view_module": "@jupyter-widgets/base",
            "_view_module_version": "1.2.0",
            "_view_name": "LayoutView",
            "align_content": null,
            "align_items": null,
            "align_self": null,
            "border": null,
            "bottom": null,
            "display": null,
            "flex": null,
            "flex_flow": null,
            "grid_area": null,
            "grid_auto_columns": null,
            "grid_auto_flow": null,
            "grid_auto_rows": null,
            "grid_column": null,
            "grid_gap": null,
            "grid_row": null,
            "grid_template_areas": null,
            "grid_template_columns": null,
            "grid_template_rows": null,
            "height": null,
            "justify_content": null,
            "justify_items": null,
            "left": null,
            "margin": null,
            "max_height": null,
            "max_width": null,
            "min_height": null,
            "min_width": null,
            "object_fit": null,
            "object_position": null,
            "order": null,
            "overflow": null,
            "overflow_x": null,
            "overflow_y": null,
            "padding": null,
            "right": null,
            "top": null,
            "visibility": null,
            "width": null
          }
        },
        "fd58af6982f24a0abe05669bb41301da": {
          "model_module": "@jupyter-widgets/controls",
          "model_name": "DescriptionStyleModel",
          "model_module_version": "1.5.0",
          "state": {
            "_model_module": "@jupyter-widgets/controls",
            "_model_module_version": "1.5.0",
            "_model_name": "DescriptionStyleModel",
            "_view_count": null,
            "_view_module": "@jupyter-widgets/base",
            "_view_module_version": "1.2.0",
            "_view_name": "StyleView",
            "description_width": ""
          }
        },
        "16765cdf24b1445abac13e3d658dbdbb": {
          "model_module": "@jupyter-widgets/base",
          "model_name": "LayoutModel",
          "model_module_version": "1.2.0",
          "state": {
            "_model_module": "@jupyter-widgets/base",
            "_model_module_version": "1.2.0",
            "_model_name": "LayoutModel",
            "_view_count": null,
            "_view_module": "@jupyter-widgets/base",
            "_view_module_version": "1.2.0",
            "_view_name": "LayoutView",
            "align_content": null,
            "align_items": null,
            "align_self": null,
            "border": null,
            "bottom": null,
            "display": null,
            "flex": null,
            "flex_flow": null,
            "grid_area": null,
            "grid_auto_columns": null,
            "grid_auto_flow": null,
            "grid_auto_rows": null,
            "grid_column": null,
            "grid_gap": null,
            "grid_row": null,
            "grid_template_areas": null,
            "grid_template_columns": null,
            "grid_template_rows": null,
            "height": null,
            "justify_content": null,
            "justify_items": null,
            "left": null,
            "margin": null,
            "max_height": null,
            "max_width": null,
            "min_height": null,
            "min_width": null,
            "object_fit": null,
            "object_position": null,
            "order": null,
            "overflow": null,
            "overflow_x": null,
            "overflow_y": null,
            "padding": null,
            "right": null,
            "top": null,
            "visibility": null,
            "width": null
          }
        },
        "ad4252ccc3c44fc9b81b88cd2b592507": {
          "model_module": "@jupyter-widgets/controls",
          "model_name": "ProgressStyleModel",
          "model_module_version": "1.5.0",
          "state": {
            "_model_module": "@jupyter-widgets/controls",
            "_model_module_version": "1.5.0",
            "_model_name": "ProgressStyleModel",
            "_view_count": null,
            "_view_module": "@jupyter-widgets/base",
            "_view_module_version": "1.2.0",
            "_view_name": "StyleView",
            "bar_color": null,
            "description_width": ""
          }
        },
        "6e29621960784c73b962c86c88a91f13": {
          "model_module": "@jupyter-widgets/base",
          "model_name": "LayoutModel",
          "model_module_version": "1.2.0",
          "state": {
            "_model_module": "@jupyter-widgets/base",
            "_model_module_version": "1.2.0",
            "_model_name": "LayoutModel",
            "_view_count": null,
            "_view_module": "@jupyter-widgets/base",
            "_view_module_version": "1.2.0",
            "_view_name": "LayoutView",
            "align_content": null,
            "align_items": null,
            "align_self": null,
            "border": null,
            "bottom": null,
            "display": null,
            "flex": null,
            "flex_flow": null,
            "grid_area": null,
            "grid_auto_columns": null,
            "grid_auto_flow": null,
            "grid_auto_rows": null,
            "grid_column": null,
            "grid_gap": null,
            "grid_row": null,
            "grid_template_areas": null,
            "grid_template_columns": null,
            "grid_template_rows": null,
            "height": null,
            "justify_content": null,
            "justify_items": null,
            "left": null,
            "margin": null,
            "max_height": null,
            "max_width": null,
            "min_height": null,
            "min_width": null,
            "object_fit": null,
            "object_position": null,
            "order": null,
            "overflow": null,
            "overflow_x": null,
            "overflow_y": null,
            "padding": null,
            "right": null,
            "top": null,
            "visibility": null,
            "width": null
          }
        },
        "ab5feaad3ff147f09d45d18d5946feca": {
          "model_module": "@jupyter-widgets/controls",
          "model_name": "DescriptionStyleModel",
          "model_module_version": "1.5.0",
          "state": {
            "_model_module": "@jupyter-widgets/controls",
            "_model_module_version": "1.5.0",
            "_model_name": "DescriptionStyleModel",
            "_view_count": null,
            "_view_module": "@jupyter-widgets/base",
            "_view_module_version": "1.2.0",
            "_view_name": "StyleView",
            "description_width": ""
          }
        },
        "589a2c7ea8d44a269bfb9edda98878bf": {
          "model_module": "@jupyter-widgets/controls",
          "model_name": "HBoxModel",
          "model_module_version": "1.5.0",
          "state": {
            "_dom_classes": [],
            "_model_module": "@jupyter-widgets/controls",
            "_model_module_version": "1.5.0",
            "_model_name": "HBoxModel",
            "_view_count": null,
            "_view_module": "@jupyter-widgets/controls",
            "_view_module_version": "1.5.0",
            "_view_name": "HBoxView",
            "box_style": "",
            "children": [
              "IPY_MODEL_3bc619042399407fa6b9e50618e643d1",
              "IPY_MODEL_246e1181f1314ce6bd2e34385af275dd",
              "IPY_MODEL_0bc5b77d1acd48dfbc6cd8d7510cf387"
            ],
            "layout": "IPY_MODEL_2df49016560f4a79ad17338b3a05b0a5"
          }
        },
        "3bc619042399407fa6b9e50618e643d1": {
          "model_module": "@jupyter-widgets/controls",
          "model_name": "HTMLModel",
          "model_module_version": "1.5.0",
          "state": {
            "_dom_classes": [],
            "_model_module": "@jupyter-widgets/controls",
            "_model_module_version": "1.5.0",
            "_model_name": "HTMLModel",
            "_view_count": null,
            "_view_module": "@jupyter-widgets/controls",
            "_view_module_version": "1.5.0",
            "_view_name": "HTMLView",
            "description": "",
            "description_tooltip": null,
            "layout": "IPY_MODEL_5672761c4f22427f89620a1aac5d5ece",
            "placeholder": "​",
            "style": "IPY_MODEL_e0482f5bdaa04790aa74cbc15d5788a3",
            "value": "model.safetensors: 100%"
          }
        },
        "246e1181f1314ce6bd2e34385af275dd": {
          "model_module": "@jupyter-widgets/controls",
          "model_name": "FloatProgressModel",
          "model_module_version": "1.5.0",
          "state": {
            "_dom_classes": [],
            "_model_module": "@jupyter-widgets/controls",
            "_model_module_version": "1.5.0",
            "_model_name": "FloatProgressModel",
            "_view_count": null,
            "_view_module": "@jupyter-widgets/controls",
            "_view_module_version": "1.5.0",
            "_view_name": "ProgressView",
            "bar_style": "success",
            "description": "",
            "description_tooltip": null,
            "layout": "IPY_MODEL_a378c2d898d24deea5736591db377b99",
            "max": 440449768,
            "min": 0,
            "orientation": "horizontal",
            "style": "IPY_MODEL_1c2d9c02e4e54d8eb24a0daea09170f6",
            "value": 440449768
          }
        },
        "0bc5b77d1acd48dfbc6cd8d7510cf387": {
          "model_module": "@jupyter-widgets/controls",
          "model_name": "HTMLModel",
          "model_module_version": "1.5.0",
          "state": {
            "_dom_classes": [],
            "_model_module": "@jupyter-widgets/controls",
            "_model_module_version": "1.5.0",
            "_model_name": "HTMLModel",
            "_view_count": null,
            "_view_module": "@jupyter-widgets/controls",
            "_view_module_version": "1.5.0",
            "_view_name": "HTMLView",
            "description": "",
            "description_tooltip": null,
            "layout": "IPY_MODEL_33cb467a3a474328a411af0c428923ab",
            "placeholder": "​",
            "style": "IPY_MODEL_74f7c08ec0bf4380a81c26b32f98f5e7",
            "value": " 440M/440M [00:05&lt;00:00, 38.2MB/s]"
          }
        },
        "2df49016560f4a79ad17338b3a05b0a5": {
          "model_module": "@jupyter-widgets/base",
          "model_name": "LayoutModel",
          "model_module_version": "1.2.0",
          "state": {
            "_model_module": "@jupyter-widgets/base",
            "_model_module_version": "1.2.0",
            "_model_name": "LayoutModel",
            "_view_count": null,
            "_view_module": "@jupyter-widgets/base",
            "_view_module_version": "1.2.0",
            "_view_name": "LayoutView",
            "align_content": null,
            "align_items": null,
            "align_self": null,
            "border": null,
            "bottom": null,
            "display": null,
            "flex": null,
            "flex_flow": null,
            "grid_area": null,
            "grid_auto_columns": null,
            "grid_auto_flow": null,
            "grid_auto_rows": null,
            "grid_column": null,
            "grid_gap": null,
            "grid_row": null,
            "grid_template_areas": null,
            "grid_template_columns": null,
            "grid_template_rows": null,
            "height": null,
            "justify_content": null,
            "justify_items": null,
            "left": null,
            "margin": null,
            "max_height": null,
            "max_width": null,
            "min_height": null,
            "min_width": null,
            "object_fit": null,
            "object_position": null,
            "order": null,
            "overflow": null,
            "overflow_x": null,
            "overflow_y": null,
            "padding": null,
            "right": null,
            "top": null,
            "visibility": null,
            "width": null
          }
        },
        "5672761c4f22427f89620a1aac5d5ece": {
          "model_module": "@jupyter-widgets/base",
          "model_name": "LayoutModel",
          "model_module_version": "1.2.0",
          "state": {
            "_model_module": "@jupyter-widgets/base",
            "_model_module_version": "1.2.0",
            "_model_name": "LayoutModel",
            "_view_count": null,
            "_view_module": "@jupyter-widgets/base",
            "_view_module_version": "1.2.0",
            "_view_name": "LayoutView",
            "align_content": null,
            "align_items": null,
            "align_self": null,
            "border": null,
            "bottom": null,
            "display": null,
            "flex": null,
            "flex_flow": null,
            "grid_area": null,
            "grid_auto_columns": null,
            "grid_auto_flow": null,
            "grid_auto_rows": null,
            "grid_column": null,
            "grid_gap": null,
            "grid_row": null,
            "grid_template_areas": null,
            "grid_template_columns": null,
            "grid_template_rows": null,
            "height": null,
            "justify_content": null,
            "justify_items": null,
            "left": null,
            "margin": null,
            "max_height": null,
            "max_width": null,
            "min_height": null,
            "min_width": null,
            "object_fit": null,
            "object_position": null,
            "order": null,
            "overflow": null,
            "overflow_x": null,
            "overflow_y": null,
            "padding": null,
            "right": null,
            "top": null,
            "visibility": null,
            "width": null
          }
        },
        "e0482f5bdaa04790aa74cbc15d5788a3": {
          "model_module": "@jupyter-widgets/controls",
          "model_name": "DescriptionStyleModel",
          "model_module_version": "1.5.0",
          "state": {
            "_model_module": "@jupyter-widgets/controls",
            "_model_module_version": "1.5.0",
            "_model_name": "DescriptionStyleModel",
            "_view_count": null,
            "_view_module": "@jupyter-widgets/base",
            "_view_module_version": "1.2.0",
            "_view_name": "StyleView",
            "description_width": ""
          }
        },
        "a378c2d898d24deea5736591db377b99": {
          "model_module": "@jupyter-widgets/base",
          "model_name": "LayoutModel",
          "model_module_version": "1.2.0",
          "state": {
            "_model_module": "@jupyter-widgets/base",
            "_model_module_version": "1.2.0",
            "_model_name": "LayoutModel",
            "_view_count": null,
            "_view_module": "@jupyter-widgets/base",
            "_view_module_version": "1.2.0",
            "_view_name": "LayoutView",
            "align_content": null,
            "align_items": null,
            "align_self": null,
            "border": null,
            "bottom": null,
            "display": null,
            "flex": null,
            "flex_flow": null,
            "grid_area": null,
            "grid_auto_columns": null,
            "grid_auto_flow": null,
            "grid_auto_rows": null,
            "grid_column": null,
            "grid_gap": null,
            "grid_row": null,
            "grid_template_areas": null,
            "grid_template_columns": null,
            "grid_template_rows": null,
            "height": null,
            "justify_content": null,
            "justify_items": null,
            "left": null,
            "margin": null,
            "max_height": null,
            "max_width": null,
            "min_height": null,
            "min_width": null,
            "object_fit": null,
            "object_position": null,
            "order": null,
            "overflow": null,
            "overflow_x": null,
            "overflow_y": null,
            "padding": null,
            "right": null,
            "top": null,
            "visibility": null,
            "width": null
          }
        },
        "1c2d9c02e4e54d8eb24a0daea09170f6": {
          "model_module": "@jupyter-widgets/controls",
          "model_name": "ProgressStyleModel",
          "model_module_version": "1.5.0",
          "state": {
            "_model_module": "@jupyter-widgets/controls",
            "_model_module_version": "1.5.0",
            "_model_name": "ProgressStyleModel",
            "_view_count": null,
            "_view_module": "@jupyter-widgets/base",
            "_view_module_version": "1.2.0",
            "_view_name": "StyleView",
            "bar_color": null,
            "description_width": ""
          }
        },
        "33cb467a3a474328a411af0c428923ab": {
          "model_module": "@jupyter-widgets/base",
          "model_name": "LayoutModel",
          "model_module_version": "1.2.0",
          "state": {
            "_model_module": "@jupyter-widgets/base",
            "_model_module_version": "1.2.0",
            "_model_name": "LayoutModel",
            "_view_count": null,
            "_view_module": "@jupyter-widgets/base",
            "_view_module_version": "1.2.0",
            "_view_name": "LayoutView",
            "align_content": null,
            "align_items": null,
            "align_self": null,
            "border": null,
            "bottom": null,
            "display": null,
            "flex": null,
            "flex_flow": null,
            "grid_area": null,
            "grid_auto_columns": null,
            "grid_auto_flow": null,
            "grid_auto_rows": null,
            "grid_column": null,
            "grid_gap": null,
            "grid_row": null,
            "grid_template_areas": null,
            "grid_template_columns": null,
            "grid_template_rows": null,
            "height": null,
            "justify_content": null,
            "justify_items": null,
            "left": null,
            "margin": null,
            "max_height": null,
            "max_width": null,
            "min_height": null,
            "min_width": null,
            "object_fit": null,
            "object_position": null,
            "order": null,
            "overflow": null,
            "overflow_x": null,
            "overflow_y": null,
            "padding": null,
            "right": null,
            "top": null,
            "visibility": null,
            "width": null
          }
        },
        "74f7c08ec0bf4380a81c26b32f98f5e7": {
          "model_module": "@jupyter-widgets/controls",
          "model_name": "DescriptionStyleModel",
          "model_module_version": "1.5.0",
          "state": {
            "_model_module": "@jupyter-widgets/controls",
            "_model_module_version": "1.5.0",
            "_model_name": "DescriptionStyleModel",
            "_view_count": null,
            "_view_module": "@jupyter-widgets/base",
            "_view_module_version": "1.2.0",
            "_view_name": "StyleView",
            "description_width": ""
          }
        },
        "9e93a9fa1c714e229f8596a566e13c2e": {
          "model_module": "@jupyter-widgets/controls",
          "model_name": "HBoxModel",
          "model_module_version": "1.5.0",
          "state": {
            "_dom_classes": [],
            "_model_module": "@jupyter-widgets/controls",
            "_model_module_version": "1.5.0",
            "_model_name": "HBoxModel",
            "_view_count": null,
            "_view_module": "@jupyter-widgets/controls",
            "_view_module_version": "1.5.0",
            "_view_name": "HBoxView",
            "box_style": "",
            "children": [
              "IPY_MODEL_ef1ba1f3b4c04eeeafdb63392768287c",
              "IPY_MODEL_a6b524e9fb68463f907439a602eccce9",
              "IPY_MODEL_7a5ec5868833485f9440f2a8937e169b"
            ],
            "layout": "IPY_MODEL_3b126d2c82e041ef920fb9c5ba872f74"
          }
        },
        "ef1ba1f3b4c04eeeafdb63392768287c": {
          "model_module": "@jupyter-widgets/controls",
          "model_name": "HTMLModel",
          "model_module_version": "1.5.0",
          "state": {
            "_dom_classes": [],
            "_model_module": "@jupyter-widgets/controls",
            "_model_module_version": "1.5.0",
            "_model_name": "HTMLModel",
            "_view_count": null,
            "_view_module": "@jupyter-widgets/controls",
            "_view_module_version": "1.5.0",
            "_view_name": "HTMLView",
            "description": "",
            "description_tooltip": null,
            "layout": "IPY_MODEL_24c579cd9794435ea6a316ed477b51b1",
            "placeholder": "​",
            "style": "IPY_MODEL_918e48e6123a4bcca7c481c15df729d2",
            "value": "tokenizer_config.json: 100%"
          }
        },
        "a6b524e9fb68463f907439a602eccce9": {
          "model_module": "@jupyter-widgets/controls",
          "model_name": "FloatProgressModel",
          "model_module_version": "1.5.0",
          "state": {
            "_dom_classes": [],
            "_model_module": "@jupyter-widgets/controls",
            "_model_module_version": "1.5.0",
            "_model_name": "FloatProgressModel",
            "_view_count": null,
            "_view_module": "@jupyter-widgets/controls",
            "_view_module_version": "1.5.0",
            "_view_name": "ProgressView",
            "bar_style": "success",
            "description": "",
            "description_tooltip": null,
            "layout": "IPY_MODEL_96133a8f883d4bea9603213b73524add",
            "max": 48,
            "min": 0,
            "orientation": "horizontal",
            "style": "IPY_MODEL_45d56087b76b4ac58e84420f4ce1c453",
            "value": 48
          }
        },
        "7a5ec5868833485f9440f2a8937e169b": {
          "model_module": "@jupyter-widgets/controls",
          "model_name": "HTMLModel",
          "model_module_version": "1.5.0",
          "state": {
            "_dom_classes": [],
            "_model_module": "@jupyter-widgets/controls",
            "_model_module_version": "1.5.0",
            "_model_name": "HTMLModel",
            "_view_count": null,
            "_view_module": "@jupyter-widgets/controls",
            "_view_module_version": "1.5.0",
            "_view_name": "HTMLView",
            "description": "",
            "description_tooltip": null,
            "layout": "IPY_MODEL_f810841fa1d448949e0539b520cc9d83",
            "placeholder": "​",
            "style": "IPY_MODEL_79fe96d21f844fad961e855f31ded74a",
            "value": " 48.0/48.0 [00:00&lt;00:00, 718B/s]"
          }
        },
        "3b126d2c82e041ef920fb9c5ba872f74": {
          "model_module": "@jupyter-widgets/base",
          "model_name": "LayoutModel",
          "model_module_version": "1.2.0",
          "state": {
            "_model_module": "@jupyter-widgets/base",
            "_model_module_version": "1.2.0",
            "_model_name": "LayoutModel",
            "_view_count": null,
            "_view_module": "@jupyter-widgets/base",
            "_view_module_version": "1.2.0",
            "_view_name": "LayoutView",
            "align_content": null,
            "align_items": null,
            "align_self": null,
            "border": null,
            "bottom": null,
            "display": null,
            "flex": null,
            "flex_flow": null,
            "grid_area": null,
            "grid_auto_columns": null,
            "grid_auto_flow": null,
            "grid_auto_rows": null,
            "grid_column": null,
            "grid_gap": null,
            "grid_row": null,
            "grid_template_areas": null,
            "grid_template_columns": null,
            "grid_template_rows": null,
            "height": null,
            "justify_content": null,
            "justify_items": null,
            "left": null,
            "margin": null,
            "max_height": null,
            "max_width": null,
            "min_height": null,
            "min_width": null,
            "object_fit": null,
            "object_position": null,
            "order": null,
            "overflow": null,
            "overflow_x": null,
            "overflow_y": null,
            "padding": null,
            "right": null,
            "top": null,
            "visibility": null,
            "width": null
          }
        },
        "24c579cd9794435ea6a316ed477b51b1": {
          "model_module": "@jupyter-widgets/base",
          "model_name": "LayoutModel",
          "model_module_version": "1.2.0",
          "state": {
            "_model_module": "@jupyter-widgets/base",
            "_model_module_version": "1.2.0",
            "_model_name": "LayoutModel",
            "_view_count": null,
            "_view_module": "@jupyter-widgets/base",
            "_view_module_version": "1.2.0",
            "_view_name": "LayoutView",
            "align_content": null,
            "align_items": null,
            "align_self": null,
            "border": null,
            "bottom": null,
            "display": null,
            "flex": null,
            "flex_flow": null,
            "grid_area": null,
            "grid_auto_columns": null,
            "grid_auto_flow": null,
            "grid_auto_rows": null,
            "grid_column": null,
            "grid_gap": null,
            "grid_row": null,
            "grid_template_areas": null,
            "grid_template_columns": null,
            "grid_template_rows": null,
            "height": null,
            "justify_content": null,
            "justify_items": null,
            "left": null,
            "margin": null,
            "max_height": null,
            "max_width": null,
            "min_height": null,
            "min_width": null,
            "object_fit": null,
            "object_position": null,
            "order": null,
            "overflow": null,
            "overflow_x": null,
            "overflow_y": null,
            "padding": null,
            "right": null,
            "top": null,
            "visibility": null,
            "width": null
          }
        },
        "918e48e6123a4bcca7c481c15df729d2": {
          "model_module": "@jupyter-widgets/controls",
          "model_name": "DescriptionStyleModel",
          "model_module_version": "1.5.0",
          "state": {
            "_model_module": "@jupyter-widgets/controls",
            "_model_module_version": "1.5.0",
            "_model_name": "DescriptionStyleModel",
            "_view_count": null,
            "_view_module": "@jupyter-widgets/base",
            "_view_module_version": "1.2.0",
            "_view_name": "StyleView",
            "description_width": ""
          }
        },
        "96133a8f883d4bea9603213b73524add": {
          "model_module": "@jupyter-widgets/base",
          "model_name": "LayoutModel",
          "model_module_version": "1.2.0",
          "state": {
            "_model_module": "@jupyter-widgets/base",
            "_model_module_version": "1.2.0",
            "_model_name": "LayoutModel",
            "_view_count": null,
            "_view_module": "@jupyter-widgets/base",
            "_view_module_version": "1.2.0",
            "_view_name": "LayoutView",
            "align_content": null,
            "align_items": null,
            "align_self": null,
            "border": null,
            "bottom": null,
            "display": null,
            "flex": null,
            "flex_flow": null,
            "grid_area": null,
            "grid_auto_columns": null,
            "grid_auto_flow": null,
            "grid_auto_rows": null,
            "grid_column": null,
            "grid_gap": null,
            "grid_row": null,
            "grid_template_areas": null,
            "grid_template_columns": null,
            "grid_template_rows": null,
            "height": null,
            "justify_content": null,
            "justify_items": null,
            "left": null,
            "margin": null,
            "max_height": null,
            "max_width": null,
            "min_height": null,
            "min_width": null,
            "object_fit": null,
            "object_position": null,
            "order": null,
            "overflow": null,
            "overflow_x": null,
            "overflow_y": null,
            "padding": null,
            "right": null,
            "top": null,
            "visibility": null,
            "width": null
          }
        },
        "45d56087b76b4ac58e84420f4ce1c453": {
          "model_module": "@jupyter-widgets/controls",
          "model_name": "ProgressStyleModel",
          "model_module_version": "1.5.0",
          "state": {
            "_model_module": "@jupyter-widgets/controls",
            "_model_module_version": "1.5.0",
            "_model_name": "ProgressStyleModel",
            "_view_count": null,
            "_view_module": "@jupyter-widgets/base",
            "_view_module_version": "1.2.0",
            "_view_name": "StyleView",
            "bar_color": null,
            "description_width": ""
          }
        },
        "f810841fa1d448949e0539b520cc9d83": {
          "model_module": "@jupyter-widgets/base",
          "model_name": "LayoutModel",
          "model_module_version": "1.2.0",
          "state": {
            "_model_module": "@jupyter-widgets/base",
            "_model_module_version": "1.2.0",
            "_model_name": "LayoutModel",
            "_view_count": null,
            "_view_module": "@jupyter-widgets/base",
            "_view_module_version": "1.2.0",
            "_view_name": "LayoutView",
            "align_content": null,
            "align_items": null,
            "align_self": null,
            "border": null,
            "bottom": null,
            "display": null,
            "flex": null,
            "flex_flow": null,
            "grid_area": null,
            "grid_auto_columns": null,
            "grid_auto_flow": null,
            "grid_auto_rows": null,
            "grid_column": null,
            "grid_gap": null,
            "grid_row": null,
            "grid_template_areas": null,
            "grid_template_columns": null,
            "grid_template_rows": null,
            "height": null,
            "justify_content": null,
            "justify_items": null,
            "left": null,
            "margin": null,
            "max_height": null,
            "max_width": null,
            "min_height": null,
            "min_width": null,
            "object_fit": null,
            "object_position": null,
            "order": null,
            "overflow": null,
            "overflow_x": null,
            "overflow_y": null,
            "padding": null,
            "right": null,
            "top": null,
            "visibility": null,
            "width": null
          }
        },
        "79fe96d21f844fad961e855f31ded74a": {
          "model_module": "@jupyter-widgets/controls",
          "model_name": "DescriptionStyleModel",
          "model_module_version": "1.5.0",
          "state": {
            "_model_module": "@jupyter-widgets/controls",
            "_model_module_version": "1.5.0",
            "_model_name": "DescriptionStyleModel",
            "_view_count": null,
            "_view_module": "@jupyter-widgets/base",
            "_view_module_version": "1.2.0",
            "_view_name": "StyleView",
            "description_width": ""
          }
        },
        "712ec9d31f1e44698c58181729fb97a8": {
          "model_module": "@jupyter-widgets/controls",
          "model_name": "HBoxModel",
          "model_module_version": "1.5.0",
          "state": {
            "_dom_classes": [],
            "_model_module": "@jupyter-widgets/controls",
            "_model_module_version": "1.5.0",
            "_model_name": "HBoxModel",
            "_view_count": null,
            "_view_module": "@jupyter-widgets/controls",
            "_view_module_version": "1.5.0",
            "_view_name": "HBoxView",
            "box_style": "",
            "children": [
              "IPY_MODEL_9f67ce0ffd674734b766dbe4846abab0",
              "IPY_MODEL_970f9babd37b41bbb5089a7f2fc27743",
              "IPY_MODEL_525c9395d58a41498b9d485d0143578a"
            ],
            "layout": "IPY_MODEL_b3bf98784eec4bb4bd764161439ff63c"
          }
        },
        "9f67ce0ffd674734b766dbe4846abab0": {
          "model_module": "@jupyter-widgets/controls",
          "model_name": "HTMLModel",
          "model_module_version": "1.5.0",
          "state": {
            "_dom_classes": [],
            "_model_module": "@jupyter-widgets/controls",
            "_model_module_version": "1.5.0",
            "_model_name": "HTMLModel",
            "_view_count": null,
            "_view_module": "@jupyter-widgets/controls",
            "_view_module_version": "1.5.0",
            "_view_name": "HTMLView",
            "description": "",
            "description_tooltip": null,
            "layout": "IPY_MODEL_6ce077d8ead54909899fc2c6748eb83c",
            "placeholder": "​",
            "style": "IPY_MODEL_307b85c74f9a49feac27aa68bf40a853",
            "value": "vocab.txt: 100%"
          }
        },
        "970f9babd37b41bbb5089a7f2fc27743": {
          "model_module": "@jupyter-widgets/controls",
          "model_name": "FloatProgressModel",
          "model_module_version": "1.5.0",
          "state": {
            "_dom_classes": [],
            "_model_module": "@jupyter-widgets/controls",
            "_model_module_version": "1.5.0",
            "_model_name": "FloatProgressModel",
            "_view_count": null,
            "_view_module": "@jupyter-widgets/controls",
            "_view_module_version": "1.5.0",
            "_view_name": "ProgressView",
            "bar_style": "success",
            "description": "",
            "description_tooltip": null,
            "layout": "IPY_MODEL_0418b98c5cd845c2980b29da9a4d69fe",
            "max": 231508,
            "min": 0,
            "orientation": "horizontal",
            "style": "IPY_MODEL_0d4c3c3f7e234bb696d3afee5091170e",
            "value": 231508
          }
        },
        "525c9395d58a41498b9d485d0143578a": {
          "model_module": "@jupyter-widgets/controls",
          "model_name": "HTMLModel",
          "model_module_version": "1.5.0",
          "state": {
            "_dom_classes": [],
            "_model_module": "@jupyter-widgets/controls",
            "_model_module_version": "1.5.0",
            "_model_name": "HTMLModel",
            "_view_count": null,
            "_view_module": "@jupyter-widgets/controls",
            "_view_module_version": "1.5.0",
            "_view_name": "HTMLView",
            "description": "",
            "description_tooltip": null,
            "layout": "IPY_MODEL_9a5e6c01dc454fb38f3d880dbb8f3e98",
            "placeholder": "​",
            "style": "IPY_MODEL_eaebea8c9bec477d9193844d57b25fa3",
            "value": " 232k/232k [00:00&lt;00:00, 1.61MB/s]"
          }
        },
        "b3bf98784eec4bb4bd764161439ff63c": {
          "model_module": "@jupyter-widgets/base",
          "model_name": "LayoutModel",
          "model_module_version": "1.2.0",
          "state": {
            "_model_module": "@jupyter-widgets/base",
            "_model_module_version": "1.2.0",
            "_model_name": "LayoutModel",
            "_view_count": null,
            "_view_module": "@jupyter-widgets/base",
            "_view_module_version": "1.2.0",
            "_view_name": "LayoutView",
            "align_content": null,
            "align_items": null,
            "align_self": null,
            "border": null,
            "bottom": null,
            "display": null,
            "flex": null,
            "flex_flow": null,
            "grid_area": null,
            "grid_auto_columns": null,
            "grid_auto_flow": null,
            "grid_auto_rows": null,
            "grid_column": null,
            "grid_gap": null,
            "grid_row": null,
            "grid_template_areas": null,
            "grid_template_columns": null,
            "grid_template_rows": null,
            "height": null,
            "justify_content": null,
            "justify_items": null,
            "left": null,
            "margin": null,
            "max_height": null,
            "max_width": null,
            "min_height": null,
            "min_width": null,
            "object_fit": null,
            "object_position": null,
            "order": null,
            "overflow": null,
            "overflow_x": null,
            "overflow_y": null,
            "padding": null,
            "right": null,
            "top": null,
            "visibility": null,
            "width": null
          }
        },
        "6ce077d8ead54909899fc2c6748eb83c": {
          "model_module": "@jupyter-widgets/base",
          "model_name": "LayoutModel",
          "model_module_version": "1.2.0",
          "state": {
            "_model_module": "@jupyter-widgets/base",
            "_model_module_version": "1.2.0",
            "_model_name": "LayoutModel",
            "_view_count": null,
            "_view_module": "@jupyter-widgets/base",
            "_view_module_version": "1.2.0",
            "_view_name": "LayoutView",
            "align_content": null,
            "align_items": null,
            "align_self": null,
            "border": null,
            "bottom": null,
            "display": null,
            "flex": null,
            "flex_flow": null,
            "grid_area": null,
            "grid_auto_columns": null,
            "grid_auto_flow": null,
            "grid_auto_rows": null,
            "grid_column": null,
            "grid_gap": null,
            "grid_row": null,
            "grid_template_areas": null,
            "grid_template_columns": null,
            "grid_template_rows": null,
            "height": null,
            "justify_content": null,
            "justify_items": null,
            "left": null,
            "margin": null,
            "max_height": null,
            "max_width": null,
            "min_height": null,
            "min_width": null,
            "object_fit": null,
            "object_position": null,
            "order": null,
            "overflow": null,
            "overflow_x": null,
            "overflow_y": null,
            "padding": null,
            "right": null,
            "top": null,
            "visibility": null,
            "width": null
          }
        },
        "307b85c74f9a49feac27aa68bf40a853": {
          "model_module": "@jupyter-widgets/controls",
          "model_name": "DescriptionStyleModel",
          "model_module_version": "1.5.0",
          "state": {
            "_model_module": "@jupyter-widgets/controls",
            "_model_module_version": "1.5.0",
            "_model_name": "DescriptionStyleModel",
            "_view_count": null,
            "_view_module": "@jupyter-widgets/base",
            "_view_module_version": "1.2.0",
            "_view_name": "StyleView",
            "description_width": ""
          }
        },
        "0418b98c5cd845c2980b29da9a4d69fe": {
          "model_module": "@jupyter-widgets/base",
          "model_name": "LayoutModel",
          "model_module_version": "1.2.0",
          "state": {
            "_model_module": "@jupyter-widgets/base",
            "_model_module_version": "1.2.0",
            "_model_name": "LayoutModel",
            "_view_count": null,
            "_view_module": "@jupyter-widgets/base",
            "_view_module_version": "1.2.0",
            "_view_name": "LayoutView",
            "align_content": null,
            "align_items": null,
            "align_self": null,
            "border": null,
            "bottom": null,
            "display": null,
            "flex": null,
            "flex_flow": null,
            "grid_area": null,
            "grid_auto_columns": null,
            "grid_auto_flow": null,
            "grid_auto_rows": null,
            "grid_column": null,
            "grid_gap": null,
            "grid_row": null,
            "grid_template_areas": null,
            "grid_template_columns": null,
            "grid_template_rows": null,
            "height": null,
            "justify_content": null,
            "justify_items": null,
            "left": null,
            "margin": null,
            "max_height": null,
            "max_width": null,
            "min_height": null,
            "min_width": null,
            "object_fit": null,
            "object_position": null,
            "order": null,
            "overflow": null,
            "overflow_x": null,
            "overflow_y": null,
            "padding": null,
            "right": null,
            "top": null,
            "visibility": null,
            "width": null
          }
        },
        "0d4c3c3f7e234bb696d3afee5091170e": {
          "model_module": "@jupyter-widgets/controls",
          "model_name": "ProgressStyleModel",
          "model_module_version": "1.5.0",
          "state": {
            "_model_module": "@jupyter-widgets/controls",
            "_model_module_version": "1.5.0",
            "_model_name": "ProgressStyleModel",
            "_view_count": null,
            "_view_module": "@jupyter-widgets/base",
            "_view_module_version": "1.2.0",
            "_view_name": "StyleView",
            "bar_color": null,
            "description_width": ""
          }
        },
        "9a5e6c01dc454fb38f3d880dbb8f3e98": {
          "model_module": "@jupyter-widgets/base",
          "model_name": "LayoutModel",
          "model_module_version": "1.2.0",
          "state": {
            "_model_module": "@jupyter-widgets/base",
            "_model_module_version": "1.2.0",
            "_model_name": "LayoutModel",
            "_view_count": null,
            "_view_module": "@jupyter-widgets/base",
            "_view_module_version": "1.2.0",
            "_view_name": "LayoutView",
            "align_content": null,
            "align_items": null,
            "align_self": null,
            "border": null,
            "bottom": null,
            "display": null,
            "flex": null,
            "flex_flow": null,
            "grid_area": null,
            "grid_auto_columns": null,
            "grid_auto_flow": null,
            "grid_auto_rows": null,
            "grid_column": null,
            "grid_gap": null,
            "grid_row": null,
            "grid_template_areas": null,
            "grid_template_columns": null,
            "grid_template_rows": null,
            "height": null,
            "justify_content": null,
            "justify_items": null,
            "left": null,
            "margin": null,
            "max_height": null,
            "max_width": null,
            "min_height": null,
            "min_width": null,
            "object_fit": null,
            "object_position": null,
            "order": null,
            "overflow": null,
            "overflow_x": null,
            "overflow_y": null,
            "padding": null,
            "right": null,
            "top": null,
            "visibility": null,
            "width": null
          }
        },
        "eaebea8c9bec477d9193844d57b25fa3": {
          "model_module": "@jupyter-widgets/controls",
          "model_name": "DescriptionStyleModel",
          "model_module_version": "1.5.0",
          "state": {
            "_model_module": "@jupyter-widgets/controls",
            "_model_module_version": "1.5.0",
            "_model_name": "DescriptionStyleModel",
            "_view_count": null,
            "_view_module": "@jupyter-widgets/base",
            "_view_module_version": "1.2.0",
            "_view_name": "StyleView",
            "description_width": ""
          }
        },
        "729363e1ade04f6392ee04d45fd6b5bb": {
          "model_module": "@jupyter-widgets/controls",
          "model_name": "HBoxModel",
          "model_module_version": "1.5.0",
          "state": {
            "_dom_classes": [],
            "_model_module": "@jupyter-widgets/controls",
            "_model_module_version": "1.5.0",
            "_model_name": "HBoxModel",
            "_view_count": null,
            "_view_module": "@jupyter-widgets/controls",
            "_view_module_version": "1.5.0",
            "_view_name": "HBoxView",
            "box_style": "",
            "children": [
              "IPY_MODEL_0f59d7ea4cf3472abaeb6acc0358991c",
              "IPY_MODEL_f73f2ed0628146cfac6dce2758b95e2d",
              "IPY_MODEL_e4eac00903f54789a5c8db91b55dcb3a"
            ],
            "layout": "IPY_MODEL_40c3a44aad754070818c149c48ca5cdd"
          }
        },
        "0f59d7ea4cf3472abaeb6acc0358991c": {
          "model_module": "@jupyter-widgets/controls",
          "model_name": "HTMLModel",
          "model_module_version": "1.5.0",
          "state": {
            "_dom_classes": [],
            "_model_module": "@jupyter-widgets/controls",
            "_model_module_version": "1.5.0",
            "_model_name": "HTMLModel",
            "_view_count": null,
            "_view_module": "@jupyter-widgets/controls",
            "_view_module_version": "1.5.0",
            "_view_name": "HTMLView",
            "description": "",
            "description_tooltip": null,
            "layout": "IPY_MODEL_e1219d8847804e5caf2781ba45c809c9",
            "placeholder": "​",
            "style": "IPY_MODEL_a94fcc0f395a4e5ab70a44490bddce92",
            "value": "tokenizer.json: 100%"
          }
        },
        "f73f2ed0628146cfac6dce2758b95e2d": {
          "model_module": "@jupyter-widgets/controls",
          "model_name": "FloatProgressModel",
          "model_module_version": "1.5.0",
          "state": {
            "_dom_classes": [],
            "_model_module": "@jupyter-widgets/controls",
            "_model_module_version": "1.5.0",
            "_model_name": "FloatProgressModel",
            "_view_count": null,
            "_view_module": "@jupyter-widgets/controls",
            "_view_module_version": "1.5.0",
            "_view_name": "ProgressView",
            "bar_style": "success",
            "description": "",
            "description_tooltip": null,
            "layout": "IPY_MODEL_86b66630ead141249f4dcc86041fb720",
            "max": 466062,
            "min": 0,
            "orientation": "horizontal",
            "style": "IPY_MODEL_d5a38749bec84c95ad0e5ab2432598c8",
            "value": 466062
          }
        },
        "e4eac00903f54789a5c8db91b55dcb3a": {
          "model_module": "@jupyter-widgets/controls",
          "model_name": "HTMLModel",
          "model_module_version": "1.5.0",
          "state": {
            "_dom_classes": [],
            "_model_module": "@jupyter-widgets/controls",
            "_model_module_version": "1.5.0",
            "_model_name": "HTMLModel",
            "_view_count": null,
            "_view_module": "@jupyter-widgets/controls",
            "_view_module_version": "1.5.0",
            "_view_name": "HTMLView",
            "description": "",
            "description_tooltip": null,
            "layout": "IPY_MODEL_e3128d3b68c74394a0202f30a03ece1c",
            "placeholder": "​",
            "style": "IPY_MODEL_da8354667a484998a0ed1dac3e814dee",
            "value": " 466k/466k [00:00&lt;00:00, 4.06MB/s]"
          }
        },
        "40c3a44aad754070818c149c48ca5cdd": {
          "model_module": "@jupyter-widgets/base",
          "model_name": "LayoutModel",
          "model_module_version": "1.2.0",
          "state": {
            "_model_module": "@jupyter-widgets/base",
            "_model_module_version": "1.2.0",
            "_model_name": "LayoutModel",
            "_view_count": null,
            "_view_module": "@jupyter-widgets/base",
            "_view_module_version": "1.2.0",
            "_view_name": "LayoutView",
            "align_content": null,
            "align_items": null,
            "align_self": null,
            "border": null,
            "bottom": null,
            "display": null,
            "flex": null,
            "flex_flow": null,
            "grid_area": null,
            "grid_auto_columns": null,
            "grid_auto_flow": null,
            "grid_auto_rows": null,
            "grid_column": null,
            "grid_gap": null,
            "grid_row": null,
            "grid_template_areas": null,
            "grid_template_columns": null,
            "grid_template_rows": null,
            "height": null,
            "justify_content": null,
            "justify_items": null,
            "left": null,
            "margin": null,
            "max_height": null,
            "max_width": null,
            "min_height": null,
            "min_width": null,
            "object_fit": null,
            "object_position": null,
            "order": null,
            "overflow": null,
            "overflow_x": null,
            "overflow_y": null,
            "padding": null,
            "right": null,
            "top": null,
            "visibility": null,
            "width": null
          }
        },
        "e1219d8847804e5caf2781ba45c809c9": {
          "model_module": "@jupyter-widgets/base",
          "model_name": "LayoutModel",
          "model_module_version": "1.2.0",
          "state": {
            "_model_module": "@jupyter-widgets/base",
            "_model_module_version": "1.2.0",
            "_model_name": "LayoutModel",
            "_view_count": null,
            "_view_module": "@jupyter-widgets/base",
            "_view_module_version": "1.2.0",
            "_view_name": "LayoutView",
            "align_content": null,
            "align_items": null,
            "align_self": null,
            "border": null,
            "bottom": null,
            "display": null,
            "flex": null,
            "flex_flow": null,
            "grid_area": null,
            "grid_auto_columns": null,
            "grid_auto_flow": null,
            "grid_auto_rows": null,
            "grid_column": null,
            "grid_gap": null,
            "grid_row": null,
            "grid_template_areas": null,
            "grid_template_columns": null,
            "grid_template_rows": null,
            "height": null,
            "justify_content": null,
            "justify_items": null,
            "left": null,
            "margin": null,
            "max_height": null,
            "max_width": null,
            "min_height": null,
            "min_width": null,
            "object_fit": null,
            "object_position": null,
            "order": null,
            "overflow": null,
            "overflow_x": null,
            "overflow_y": null,
            "padding": null,
            "right": null,
            "top": null,
            "visibility": null,
            "width": null
          }
        },
        "a94fcc0f395a4e5ab70a44490bddce92": {
          "model_module": "@jupyter-widgets/controls",
          "model_name": "DescriptionStyleModel",
          "model_module_version": "1.5.0",
          "state": {
            "_model_module": "@jupyter-widgets/controls",
            "_model_module_version": "1.5.0",
            "_model_name": "DescriptionStyleModel",
            "_view_count": null,
            "_view_module": "@jupyter-widgets/base",
            "_view_module_version": "1.2.0",
            "_view_name": "StyleView",
            "description_width": ""
          }
        },
        "86b66630ead141249f4dcc86041fb720": {
          "model_module": "@jupyter-widgets/base",
          "model_name": "LayoutModel",
          "model_module_version": "1.2.0",
          "state": {
            "_model_module": "@jupyter-widgets/base",
            "_model_module_version": "1.2.0",
            "_model_name": "LayoutModel",
            "_view_count": null,
            "_view_module": "@jupyter-widgets/base",
            "_view_module_version": "1.2.0",
            "_view_name": "LayoutView",
            "align_content": null,
            "align_items": null,
            "align_self": null,
            "border": null,
            "bottom": null,
            "display": null,
            "flex": null,
            "flex_flow": null,
            "grid_area": null,
            "grid_auto_columns": null,
            "grid_auto_flow": null,
            "grid_auto_rows": null,
            "grid_column": null,
            "grid_gap": null,
            "grid_row": null,
            "grid_template_areas": null,
            "grid_template_columns": null,
            "grid_template_rows": null,
            "height": null,
            "justify_content": null,
            "justify_items": null,
            "left": null,
            "margin": null,
            "max_height": null,
            "max_width": null,
            "min_height": null,
            "min_width": null,
            "object_fit": null,
            "object_position": null,
            "order": null,
            "overflow": null,
            "overflow_x": null,
            "overflow_y": null,
            "padding": null,
            "right": null,
            "top": null,
            "visibility": null,
            "width": null
          }
        },
        "d5a38749bec84c95ad0e5ab2432598c8": {
          "model_module": "@jupyter-widgets/controls",
          "model_name": "ProgressStyleModel",
          "model_module_version": "1.5.0",
          "state": {
            "_model_module": "@jupyter-widgets/controls",
            "_model_module_version": "1.5.0",
            "_model_name": "ProgressStyleModel",
            "_view_count": null,
            "_view_module": "@jupyter-widgets/base",
            "_view_module_version": "1.2.0",
            "_view_name": "StyleView",
            "bar_color": null,
            "description_width": ""
          }
        },
        "e3128d3b68c74394a0202f30a03ece1c": {
          "model_module": "@jupyter-widgets/base",
          "model_name": "LayoutModel",
          "model_module_version": "1.2.0",
          "state": {
            "_model_module": "@jupyter-widgets/base",
            "_model_module_version": "1.2.0",
            "_model_name": "LayoutModel",
            "_view_count": null,
            "_view_module": "@jupyter-widgets/base",
            "_view_module_version": "1.2.0",
            "_view_name": "LayoutView",
            "align_content": null,
            "align_items": null,
            "align_self": null,
            "border": null,
            "bottom": null,
            "display": null,
            "flex": null,
            "flex_flow": null,
            "grid_area": null,
            "grid_auto_columns": null,
            "grid_auto_flow": null,
            "grid_auto_rows": null,
            "grid_column": null,
            "grid_gap": null,
            "grid_row": null,
            "grid_template_areas": null,
            "grid_template_columns": null,
            "grid_template_rows": null,
            "height": null,
            "justify_content": null,
            "justify_items": null,
            "left": null,
            "margin": null,
            "max_height": null,
            "max_width": null,
            "min_height": null,
            "min_width": null,
            "object_fit": null,
            "object_position": null,
            "order": null,
            "overflow": null,
            "overflow_x": null,
            "overflow_y": null,
            "padding": null,
            "right": null,
            "top": null,
            "visibility": null,
            "width": null
          }
        },
        "da8354667a484998a0ed1dac3e814dee": {
          "model_module": "@jupyter-widgets/controls",
          "model_name": "DescriptionStyleModel",
          "model_module_version": "1.5.0",
          "state": {
            "_model_module": "@jupyter-widgets/controls",
            "_model_module_version": "1.5.0",
            "_model_name": "DescriptionStyleModel",
            "_view_count": null,
            "_view_module": "@jupyter-widgets/base",
            "_view_module_version": "1.2.0",
            "_view_name": "StyleView",
            "description_width": ""
          }
        }
      }
    }
  },
  "cells": [
    {
      "cell_type": "markdown",
      "source": [
        "### Candidate Ranking"
      ],
      "metadata": {
        "id": "ylMheyNn20R5"
      }
    },
    {
      "cell_type": "code",
      "execution_count": 3,
      "metadata": {
        "id": "NBivgQ2kyZU_"
      },
      "outputs": [],
      "source": [
        "import json"
      ]
    },
    {
      "cell_type": "markdown",
      "source": [
        "Input (candidates, job_req)"
      ],
      "metadata": {
        "id": "8mv6ipuE5Evf"
      }
    },
    {
      "cell_type": "code",
      "source": [
        "candidates = [\n",
        "    { \"id\": 1,\n",
        "        \"basic_info\": {\n",
        "            \"name\": \"Gopal\",\n",
        "            \"email\": \"Gopal@gmail.com\",\n",
        "            \"phone_number\": \"628579423778\",\n",
        "            \"location\": \"Bandung, Indonesia\"\n",
        "        },\n",
        "        \"work_experience\": [\n",
        "            {\n",
        "                \"job_title\": \"IT MES (Manufacturing Execution System) Operation Specialist\",\n",
        "                \"company\": \"PT Hyundai Motor Manufacturing Indonesia\",\n",
        "                \"location\": \"Bekasi, Indonesia\",\n",
        "                \"start_date\": \"Jun 2023\",\n",
        "                \"end_date\": \"Present\",\n",
        "                \"job_desc\": [\n",
        "                    \"Responsible for monitoring the companys Information Technology system and facility which includes devices networks applications middleware and all other elements through our monitoring system ensuring optimal performance and system availability\",\n",
        "                    \"Performing regular facility health checks and doing backups for installed PC to minimize future issues\",\n",
        "                    \"Troubleshooting issues that occur in the production\",\n",
        "                    \"End-to-end follow-up with all stakeholders that involved in the issue\",\n",
        "                    \"Providing status updates and reports on all our system performance availability issues statistics and other day-to-day relevant information to superiors\",\n",
        "                    \"Manage and maintain the companys Information Technology assets ensuring the condition of all assets is properly recorded\",\n",
        "                    \"Performing Stock Opname of all IT assets and providing regular report status of assets to monitor assets availability\",\n",
        "                    \"Planning assets procurement for all related assets that will be required in future projects\"\n",
        "                ]\n",
        "            },\n",
        "            {\n",
        "                \"job_title\": \"Information Technology Helpdesk\",\n",
        "                \"company\": \"PT Ciwaru Jaya Kusumah\",\n",
        "                \"location\": \"Bandung, Indonesia\",\n",
        "                \"start_date\": \"Jul 2019\",\n",
        "                \"end_date\": \"May 2023\",\n",
        "                \"job_desc\": [\n",
        "                    \"Responsible for handling all existing client issues both from the technical and operational side Such as problems on the network that cause clients to be unable to make transactions that require remote handling on the clients computer\",\n",
        "                    \"Monitoring the companys transaction system ensuring availability and reporting transaction complaints to suppliers\",\n",
        "                    \"Coordinate with other stakeholders about product or system issues\"\n",
        "                ]\n",
        "            }\n",
        "        ],\n",
        "        \"education\": [\n",
        "            {\n",
        "                \"title\": \"Bachelor of Engineering Major in Informatics\",\n",
        "                \"institute\": \"Universitas Pasundan Bandung Indonesia\",\n",
        "                \"location\": \"unknown\",\n",
        "                \"start_date\": \"Dec 2021\",\n",
        "                \"end_date\": \"unknown\",\n",
        "                \"description\": \"unknown\"\n",
        "            }\n",
        "        ],\n",
        "        \"languages\": [\n",
        "            \"unknown\"\n",
        "        ],\n",
        "        \"skills\": [\n",
        "            \"Database Management System: Mysql, PostgresSql, MongoDB, Cassandra\",\n",
        "            \"Programming Language: Python, Javascript, Java\",\n",
        "            \"Linux Commands and Shell Scripting\",\n",
        "            \"ETL Shell Script, Airflow, Mage, Kafka, Talend\",\n",
        "            \"Big Data: Hadoop, Spark\",\n",
        "            \"Data Visualization: Looker Studio, Tableau, IBM Cognos Analytic, Power BI\",\n",
        "            \"Cloud Services: Google Cloud Platform, IBM Cloud, AWS Cloud\",\n",
        "            \"Git, Jenkins, Docker\",\n",
        "            \"Database Administration, Data Warehousing\"\n",
        "        ],\n",
        "        \"certification\": [\n",
        "            {\n",
        "                \"title\": \"Cloud Computing Scholarship by Bangkit Academy\",\n",
        "                \"issuer\": \"unknown\",\n",
        "                \"start_date\": \"Jan 17, 2021\",\n",
        "                \"expiration_date\": \"Jul 21, 2021\"\n",
        "            },\n",
        "            {\n",
        "                \"title\": \"Data Science Bootcamp by Digital Skola\",\n",
        "                \"issuer\": \"unknown\",\n",
        "                \"start_date\": \"Aug 6, 2022\",\n",
        "                \"expiration_date\": \"Oct 30 2022\"\n",
        "            },\n",
        "            {\n",
        "                \"title\": \"IBM Data Engineering Professional Certificate\",\n",
        "                \"issuer\": \"unknown\",\n",
        "                \"start_date\": \"2023\",\n",
        "                \"expiration_date\": \"unknown\"\n",
        "            },\n",
        "            {\n",
        "                \"title\": \"From Data to Insight with Google Cloud Platform Specialization\",\n",
        "                \"issuer\": \"unknown\",\n",
        "                \"start_date\": \"2021\",\n",
        "                \"expiration_date\": \"unknown\"\n",
        "            },\n",
        "            {\n",
        "                \"title\": \"Architecting with Google Compute Engine Specialization\",\n",
        "                \"issuer\": \"unknown\",\n",
        "                \"start_date\": \"2021\",\n",
        "                \"expiration_date\": \"unknown\"\n",
        "            },\n",
        "            {\n",
        "                \"title\": \"Google IT Automation with Python\",\n",
        "                \"issuer\": \"unknown\",\n",
        "                \"start_date\": \"2021\",\n",
        "                \"expiration_date\": \"unknown\"\n",
        "            }\n",
        "        ]\n",
        "    },\n",
        "    {\n",
        "    \"id\": 2,\n",
        "    \"basic_info\": {\n",
        "        \"name\": \"Masbro\",\n",
        "        \"email\": \"masbro@gmail.com\",\n",
        "        \"phone_number\": \"6285794009878\",\n",
        "        \"location\": \"Padang, Indonesia\"\n",
        "    },\n",
        "    \"work_experience\": [\n",
        "        {\n",
        "            \"job_title\": \"Machine Learning Engineer\",\n",
        "            \"company\": \"PT DataTech Solutions\",\n",
        "            \"location\": \"Jakarta, Indonesia\",\n",
        "            \"start_date\": \"Aug 2022\",\n",
        "            \"end_date\": \"Present\",\n",
        "            \"job_desc\": [\n",
        "                \"Developing machine learning models for predictive analytics and data-driven solutions.\",\n",
        "                \"Implementing algorithms and data pipelines using Python and TensorFlow.\",\n",
        "                \"Optimizing model performance through experimentation and hyperparameter tuning.\",\n",
        "                \"Collaborating with cross-functional teams to deploy and integrate models into production systems.\",\n",
        "                \"Monitoring model performance and conducting periodic evaluations to ensure accuracy and reliability.\"\n",
        "            ]\n",
        "        },\n",
        "        {\n",
        "            \"job_title\": \"Data Analyst\",\n",
        "            \"company\": \"PT Analytics Xpert\",\n",
        "            \"location\": \"Bandung, Indonesia\",\n",
        "            \"start_date\": \"Jan 2019\",\n",
        "            \"end_date\": \"Jul 2022\",\n",
        "            \"job_desc\": [\n",
        "                \"Performed data cleaning, transformation, and visualization to support business insights.\",\n",
        "                \"Developed SQL queries and scripts to extract and analyze data from relational databases.\",\n",
        "                \"Assisted in creating dashboards and reports for stakeholders using BI tools like Tableau.\",\n",
        "                \"Contributed to statistical analysis and hypothesis testing for business decision-making.\"\n",
        "            ]\n",
        "        }\n",
        "    ],\n",
        "    \"education\": [\n",
        "        {\n",
        "            \"title\": \"Master of Science in Computer Science\",\n",
        "            \"institute\": \"Institut Teknologi Bandung\",\n",
        "            \"location\": \"Bandung, Indonesia\",\n",
        "            \"start_date\": \"Sep 2017\",\n",
        "            \"end_date\": \"Sep 2021\",\n",
        "            \"description\": \"Focused on machine learning, artificial intelligence, and data science.\"\n",
        "        }\n",
        "    ],\n",
        "    \"languages\": [\n",
        "        \"English\", \"Indonesian\"\n",
        "    ],\n",
        "    \"skills\": [\n",
        "        \"Machine Learning: TensorFlow, Scikit-learn, Keras\",\n",
        "        \"Python Programming\",\n",
        "        \"Statistical Analysis and Modeling\",\n",
        "        \"Data Visualization: Tableau, Matplotlib, Seaborn\",\n",
        "        \"Big Data Tools: Hadoop, Spark\",\n",
        "        \"SQL and NoSQL Databases\",\n",
        "        \"Version Control: Git\",\n",
        "        \"Deep Learning Fundamentals\"\n",
        "    ],\n",
        "    \"certification\": [\n",
        "        {\n",
        "            \"title\": \"Machine Learning Engineer Nanodegree\",\n",
        "            \"issuer\": \"Udacity\",\n",
        "            \"start_date\": \"Oct 2021\",\n",
        "            \"expiration_date\": \"Oct 2023\"\n",
        "        },\n",
        "        {\n",
        "            \"title\": \"Advanced Data Science Specialization\",\n",
        "            \"issuer\": \"Coursera\",\n",
        "            \"start_date\": \"Jul 2020\",\n",
        "            \"expiration_date\": \"Jul 2021\"\n",
        "        },\n",
        "        {\n",
        "            \"title\": \"AWS Certified Machine Learning - Specialty\",\n",
        "            \"issuer\": \"Amazon Web Services\",\n",
        "            \"start_date\": \"Mar 2023\",\n",
        "            \"expiration_date\": \"Mar 2026\"\n",
        "        }\n",
        "    ]\n",
        "}\n",
        "]"
      ],
      "metadata": {
        "id": "De8FX5474IUV"
      },
      "execution_count": 2,
      "outputs": []
    },
    {
      "cell_type": "code",
      "source": [
        "jobreq =\"Proficiency in Python, TensorFlow, with experience in model optimization and integration into production systems.\""
      ],
      "metadata": {
        "id": "ic9iNG-nzBCM"
      },
      "execution_count": 4,
      "outputs": []
    },
    {
      "cell_type": "markdown",
      "source": [
        "Ubah Bahasa Indonesia ke English"
      ],
      "metadata": {
        "id": "urzi0Ytj6Cc1"
      }
    },
    {
      "cell_type": "code",
      "source": [
        "!pip install -q googletrans==4.0.0-rc1\n",
        "!pip install -q googletrans==4.0.0-rc1 langdetect"
      ],
      "metadata": {
        "id": "91TQvDQtzJ0L",
        "colab": {
          "base_uri": "https://localhost:8080/"
        },
        "outputId": "b1e31778-4b74-4655-e8e1-3f37657354f7"
      },
      "execution_count": 5,
      "outputs": [
        {
          "output_type": "stream",
          "name": "stdout",
          "text": [
            "  Preparing metadata (setup.py) ... \u001b[?25l\u001b[?25hdone\n",
            "\u001b[2K     \u001b[90m━━━━━━━━━━━━━━━━━━━━━━━━━━━━━━━━━━━━━━━━\u001b[0m \u001b[32m55.1/55.1 kB\u001b[0m \u001b[31m2.3 MB/s\u001b[0m eta \u001b[36m0:00:00\u001b[0m\n",
            "\u001b[2K     \u001b[90m━━━━━━━━━━━━━━━━━━━━━━━━━━━━━━━━━━━━━━━━\u001b[0m \u001b[32m1.2/1.2 MB\u001b[0m \u001b[31m21.2 MB/s\u001b[0m eta \u001b[36m0:00:00\u001b[0m\n",
            "\u001b[2K     \u001b[90m━━━━━━━━━━━━━━━━━━━━━━━━━━━━━━━━━━━━━━━━\u001b[0m \u001b[32m133.4/133.4 kB\u001b[0m \u001b[31m14.0 MB/s\u001b[0m eta \u001b[36m0:00:00\u001b[0m\n",
            "\u001b[2K     \u001b[90m━━━━━━━━━━━━━━━━━━━━━━━━━━━━━━━━━━━━━━━━\u001b[0m \u001b[32m58.8/58.8 kB\u001b[0m \u001b[31m6.3 MB/s\u001b[0m eta \u001b[36m0:00:00\u001b[0m\n",
            "\u001b[2K     \u001b[90m━━━━━━━━━━━━━━━━━━━━━━━━━━━━━━━━━━━━━━━━\u001b[0m \u001b[32m42.6/42.6 kB\u001b[0m \u001b[31m4.6 MB/s\u001b[0m eta \u001b[36m0:00:00\u001b[0m\n",
            "\u001b[2K     \u001b[90m━━━━━━━━━━━━━━━━━━━━━━━━━━━━━━━━━━━━━━━━\u001b[0m \u001b[32m53.6/53.6 kB\u001b[0m \u001b[31m5.9 MB/s\u001b[0m eta \u001b[36m0:00:00\u001b[0m\n",
            "\u001b[2K     \u001b[90m━━━━━━━━━━━━━━━━━━━━━━━━━━━━━━━━━━━━━━━━\u001b[0m \u001b[32m65.0/65.0 kB\u001b[0m \u001b[31m7.1 MB/s\u001b[0m eta \u001b[36m0:00:00\u001b[0m\n",
            "\u001b[?25h  Building wheel for googletrans (setup.py) ... \u001b[?25l\u001b[?25hdone\n",
            "\u001b[2K     \u001b[90m━━━━━━━━━━━━━━━━━━━━━━━━━━━━━━━━━━━━━━━━\u001b[0m \u001b[32m981.5/981.5 kB\u001b[0m \u001b[31m6.2 MB/s\u001b[0m eta \u001b[36m0:00:00\u001b[0m\n",
            "\u001b[?25h  Preparing metadata (setup.py) ... \u001b[?25l\u001b[?25hdone\n",
            "  Building wheel for langdetect (setup.py) ... \u001b[?25l\u001b[?25hdone\n"
          ]
        }
      ]
    },
    {
      "cell_type": "code",
      "source": [
        "from googletrans import Translator\n",
        "from langdetect import detect"
      ],
      "metadata": {
        "id": "-gcgtZYUzLrt"
      },
      "execution_count": 6,
      "outputs": []
    },
    {
      "cell_type": "code",
      "source": [
        "def translate_text(text):\n",
        "    translator = Translator()\n",
        "    try:\n",
        "        # Detect the language\n",
        "        lang = detect(text)\n",
        "        # Translate only if the text is in Indonesian\n",
        "        if lang == 'id':\n",
        "            translated = translator.translate(text, src='id', dest='en')\n",
        "            return translated.text\n",
        "        else:\n",
        "            # Return the original text if it's not in Indonesian\n",
        "            return text\n",
        "    except Exception as e:\n",
        "        # If detection or translation fails, return the original text\n",
        "        return text"
      ],
      "metadata": {
        "id": "K3rZ2_PnzNnk"
      },
      "execution_count": 7,
      "outputs": []
    },
    {
      "cell_type": "markdown",
      "source": [
        "### Text Preprocessing"
      ],
      "metadata": {
        "id": "GSgMSGQh65qq"
      }
    },
    {
      "cell_type": "code",
      "source": [
        "import tensorflow as tf\n",
        "import string\n",
        "import nltk\n",
        "from nltk.corpus import stopwords\n",
        "from nltk.tokenize import word_tokenize\n",
        "from nltk.stem import WordNetLemmatizer"
      ],
      "metadata": {
        "id": "Eudm7y2pzdgw"
      },
      "execution_count": 8,
      "outputs": []
    },
    {
      "cell_type": "code",
      "source": [
        "!pip -q install Sastrawi"
      ],
      "metadata": {
        "id": "SpG5Mh18zfJd",
        "colab": {
          "base_uri": "https://localhost:8080/"
        },
        "outputId": "c2b05e40-f49c-4b5c-91f9-e0e30cd740c8"
      },
      "execution_count": 9,
      "outputs": [
        {
          "output_type": "stream",
          "name": "stdout",
          "text": [
            "\u001b[?25l     \u001b[90m━━━━━━━━━━━━━━━━━━━━━━━━━━━━━━━━━━━━━━━━\u001b[0m \u001b[32m0.0/209.7 kB\u001b[0m \u001b[31m?\u001b[0m eta \u001b[36m-:--:--\u001b[0m\r\u001b[2K     \u001b[91m━━━━━━━━━━━━━━━━━━━━━━━━━━━━━━━━━\u001b[0m\u001b[90m╺\u001b[0m\u001b[90m━━━━━━\u001b[0m \u001b[32m174.1/209.7 kB\u001b[0m \u001b[31m5.1 MB/s\u001b[0m eta \u001b[36m0:00:01\u001b[0m\r\u001b[2K     \u001b[90m━━━━━━━━━━━━━━━━━━━━━━━━━━━━━━━━━━━━━━━━\u001b[0m \u001b[32m209.7/209.7 kB\u001b[0m \u001b[31m4.0 MB/s\u001b[0m eta \u001b[36m0:00:00\u001b[0m\n",
            "\u001b[?25h"
          ]
        }
      ]
    },
    {
      "cell_type": "code",
      "source": [
        "nltk.download('punkt')\n",
        "nltk.download('stopwords')\n",
        "nltk.download('wordnet')"
      ],
      "metadata": {
        "id": "aOYVLEPDzjBz",
        "outputId": "6189619b-0da3-4d2c-f7df-45b831590d1f",
        "colab": {
          "base_uri": "https://localhost:8080/"
        }
      },
      "execution_count": 10,
      "outputs": [
        {
          "output_type": "stream",
          "name": "stderr",
          "text": [
            "[nltk_data] Downloading package punkt to /root/nltk_data...\n",
            "[nltk_data]   Unzipping tokenizers/punkt.zip.\n",
            "[nltk_data] Downloading package stopwords to /root/nltk_data...\n",
            "[nltk_data]   Unzipping corpora/stopwords.zip.\n",
            "[nltk_data] Downloading package wordnet to /root/nltk_data...\n"
          ]
        },
        {
          "output_type": "execute_result",
          "data": {
            "text/plain": [
              "True"
            ]
          },
          "metadata": {},
          "execution_count": 10
        }
      ]
    },
    {
      "cell_type": "markdown",
      "source": [
        "Tahap preprocessing lanjutan"
      ],
      "metadata": {
        "id": "VqPq7c9t7js0"
      }
    },
    {
      "cell_type": "code",
      "source": [
        "from nltk.corpus import stopwords\n",
        "from nltk.stem import WordNetLemmatizer\n",
        "import string\n",
        "\n",
        "# Initialize stopwords and lemmatizer\n",
        "stop_words = set(stopwords.words('english'))\n",
        "lemmatizer = WordNetLemmatizer()\n",
        "\n",
        "def preprocess_text(text):\n",
        "    # Remove punctuation\n",
        "    text = text.translate(str.maketrans('', '', string.punctuation))\n",
        "    # Convert to lowercase\n",
        "    text = text.lower()\n",
        "    # Remove stopwords and lemmatize, excluding words containing 'unknown'\n",
        "    text = ' '.join(lemmatizer.lemmatize(word) for word in text.split() if word not in stop_words and 'unknown' not in word)\n",
        "    return text\n",
        "\n",
        "def combine_candidate_data(candidate):\n",
        "    combined_text = []\n",
        "    # Combine basic info\n",
        "    basic_info = candidate['basic_info']\n",
        "    if 'location' in basic_info:\n",
        "        combined_text.append(translate_text(basic_info['location']))\n",
        "\n",
        "    # Combine work experience\n",
        "    for work in candidate['work_experience']:\n",
        "        combined_text.append(translate_text(work['job_title']))\n",
        "        if 'job_desc' in work:\n",
        "            combined_text.extend(translate_text(desc) for desc in work['job_desc'])\n",
        "\n",
        "    # Combine education\n",
        "    for education in candidate['education']:\n",
        "        combined_text.append(translate_text(education['title']))\n",
        "        if 'description' in education:\n",
        "            combined_text.extend(translate_text(desc) for desc in education['description'])\n",
        "\n",
        "    # Combine languages, skills, and certifications\n",
        "    combined_text.extend(translate_text(language) for language in candidate['languages'])\n",
        "    combined_text.extend(translate_text(skill) for skill in candidate['skills'])\n",
        "    for certification in candidate['certification']:\n",
        "        combined_text.append(translate_text(certification['title']))\n",
        "        if 'issuer' in certification:\n",
        "            combined_text.append(translate_text(certification['issuer']))\n",
        "\n",
        "    # Join all text into a single string\n",
        "    combined_text = ' '.join(combined_text)\n",
        "    # Preprocess the combined text\n",
        "    return preprocess_text(combined_text)\n",
        "\n",
        "# Function to modify candidates JSON to include CV text\n",
        "def modify_candidates_data(candidates):\n",
        "    modified_candidates = []\n",
        "    for candidate in candidates:\n",
        "        modified_candidate = {\n",
        "            'id': candidate['id'],\n",
        "            'cv_text': combine_candidate_data(candidate)\n",
        "        }\n",
        "        modified_candidates.append(modified_candidate)\n",
        "    return modified_candidates"
      ],
      "metadata": {
        "id": "zTyWsD5DzzkO"
      },
      "execution_count": 11,
      "outputs": []
    },
    {
      "cell_type": "code",
      "source": [
        "preprocess_jobreq = translate_text(preprocess_text(jobreq))"
      ],
      "metadata": {
        "id": "dt8atM4RCQvQ"
      },
      "execution_count": 12,
      "outputs": []
    },
    {
      "cell_type": "code",
      "source": [
        "preprocess_jobreq"
      ],
      "metadata": {
        "colab": {
          "base_uri": "https://localhost:8080/",
          "height": 36
        },
        "id": "EMU2joO7CbrV",
        "outputId": "51caeddb-89ae-4599-d4a6-2de92762920b"
      },
      "execution_count": 13,
      "outputs": [
        {
          "output_type": "execute_result",
          "data": {
            "text/plain": [
              "'proficiency python tensorflow experience model optimization integration production system'"
            ],
            "application/vnd.google.colaboratory.intrinsic+json": {
              "type": "string"
            }
          },
          "metadata": {},
          "execution_count": 13
        }
      ]
    },
    {
      "cell_type": "code",
      "source": [
        "modified_candidates = modify_candidates_data(candidates)"
      ],
      "metadata": {
        "id": "8Oggb9FYz1Qe"
      },
      "execution_count": 14,
      "outputs": []
    },
    {
      "cell_type": "code",
      "source": [
        "for candidate in modified_candidates:\n",
        "    print(json.dumps(candidate, indent=2))"
      ],
      "metadata": {
        "id": "y5jPHXugz2rE",
        "outputId": "cedf841b-5989-4c08-a68c-56e161bb22d2",
        "colab": {
          "base_uri": "https://localhost:8080/"
        }
      },
      "execution_count": 15,
      "outputs": [
        {
          "output_type": "stream",
          "name": "stdout",
          "text": [
            "{\n",
            "  \"id\": 1,\n",
            "  \"cv_text\": \"bandung indonesia me manufacturing execution system operation specialist responsible monitoring company information technology system facility includes device network application middleware element monitoring system ensuring optimal performance system availability performing regular facility health check backup installed pc minimize future issue troubleshooting issue occur production endtoend followup stakeholder involved issue providing status update report system performance availability issue statistic daytoday relevant information superior manage maintain company information technology asset ensuring condition asset properly recorded performing stock opname asset providing regular report status asset monitor asset availability planning asset procurement related asset required future project information technology helpdesk responsible handling existing client issue technical operational side problem network cause client unable make transaction require remote handling client computer monitoring company transaction system ensuring availability reporting transaction complaint supplier coordinate stakeholder product system issue bachelor engineering major informatics u n k n w n database management system mysql postgressql mongodb cassandra programming language python javascript java linux command shell scripting etl shell script airflow mage kafka talend big data hadoop spark data visualization looker studio tableau ibm cognos analytic power bi cloud service google cloud platform ibm cloud aws cloud git jenkins docker database administration data warehousing cloud computing scholarship bangkit academy data science bootcamp digital skola ibm data engineering professional certificate data insight google cloud platform specialization architecting google compute engine specialization google automation python\"\n",
            "}\n",
            "{\n",
            "  \"id\": 2,\n",
            "  \"cv_text\": \"padang indonesia machine learning engineer developing machine learning model predictive analytics datadriven solution implementing algorithm data pipeline using python tensorflow optimizing model performance experimentation hyperparameter tuning collaborating crossfunctional team deploy integrate model production system monitoring model performance conducting periodic evaluation ensure accuracy reliability data analyst performed data cleaning transformation visualization support business insight developed sql query script extract analyze data relational database assisted creating dashboard report stakeholder using bi tool like tableau contributed statistical analysis hypothesis testing business decisionmaking master science computer science f c u e n c h n e l e r n n g r f c l n e l l g e n c e n c e n c e english indonesian machine learning tensorflow scikitlearn kera python programming statistical analysis modeling data visualization tableau matplotlib seaborn big data tool hadoop spark sql nosql database version control git deep learning fundamental machine learning engineer nanodegree udacity advanced data science specialization coursera aws certified machine learning specialty amazon web service\"\n",
            "}\n"
          ]
        }
      ]
    },
    {
      "cell_type": "markdown",
      "source": [
        "### Scoring"
      ],
      "metadata": {
        "id": "bPhf5NCa8mNu"
      }
    },
    {
      "cell_type": "code",
      "source": [
        "!pip -q install sentence-transformers"
      ],
      "metadata": {
        "id": "v8JadMXl5ygO",
        "colab": {
          "base_uri": "https://localhost:8080/"
        },
        "outputId": "7b631d82-bf75-4b6b-d1f2-2a8f9789d25d"
      },
      "execution_count": 16,
      "outputs": [
        {
          "output_type": "stream",
          "name": "stdout",
          "text": [
            "\u001b[2K     \u001b[90m━━━━━━━━━━━━━━━━━━━━━━━━━━━━━━━━━━━━━━━━\u001b[0m \u001b[32m227.1/227.1 kB\u001b[0m \u001b[31m4.7 MB/s\u001b[0m eta \u001b[36m0:00:00\u001b[0m\n",
            "\u001b[2K     \u001b[90m━━━━━━━━━━━━━━━━━━━━━━━━━━━━━━━━━━━━━━━━\u001b[0m \u001b[32m21.3/21.3 MB\u001b[0m \u001b[31m41.8 MB/s\u001b[0m eta \u001b[36m0:00:00\u001b[0m\n",
            "\u001b[?25h"
          ]
        }
      ]
    },
    {
      "cell_type": "code",
      "source": [
        "import tensorflow as tf\n",
        "from sentence_transformers import SentenceTransformer\n",
        "import numpy as np\n",
        "import json"
      ],
      "metadata": {
        "id": "dehO0IKl5pSx",
        "colab": {
          "base_uri": "https://localhost:8080/"
        },
        "outputId": "e70571f3-582c-40a6-cc80-7b456766b47b"
      },
      "execution_count": 17,
      "outputs": [
        {
          "output_type": "stream",
          "name": "stderr",
          "text": [
            "/usr/local/lib/python3.10/dist-packages/sentence_transformers/cross_encoder/CrossEncoder.py:11: TqdmExperimentalWarning: Using `tqdm.autonotebook.tqdm` in notebook mode. Use `tqdm.tqdm` instead to force console mode (e.g. in jupyter console)\n",
            "  from tqdm.autonotebook import tqdm, trange\n"
          ]
        }
      ]
    },
    {
      "cell_type": "code",
      "source": [
        "model = SentenceTransformer('bert-base-uncased')"
      ],
      "metadata": {
        "colab": {
          "base_uri": "https://localhost:8080/",
          "height": 360,
          "referenced_widgets": [
            "d28efc76c68c459994b2bdba140fa5a9",
            "d65f6adb58a7486aafac1890a1f0cfac",
            "7c1c37694f3c4badbb82955fc85c797b",
            "8460d4d4985349a281d961dbd0a7a84c",
            "72bb9b37781b409d940132eb63bcd6b7",
            "9c213672106d460388580b45363b96a0",
            "fd58af6982f24a0abe05669bb41301da",
            "16765cdf24b1445abac13e3d658dbdbb",
            "ad4252ccc3c44fc9b81b88cd2b592507",
            "6e29621960784c73b962c86c88a91f13",
            "ab5feaad3ff147f09d45d18d5946feca",
            "589a2c7ea8d44a269bfb9edda98878bf",
            "3bc619042399407fa6b9e50618e643d1",
            "246e1181f1314ce6bd2e34385af275dd",
            "0bc5b77d1acd48dfbc6cd8d7510cf387",
            "2df49016560f4a79ad17338b3a05b0a5",
            "5672761c4f22427f89620a1aac5d5ece",
            "e0482f5bdaa04790aa74cbc15d5788a3",
            "a378c2d898d24deea5736591db377b99",
            "1c2d9c02e4e54d8eb24a0daea09170f6",
            "33cb467a3a474328a411af0c428923ab",
            "74f7c08ec0bf4380a81c26b32f98f5e7",
            "9e93a9fa1c714e229f8596a566e13c2e",
            "ef1ba1f3b4c04eeeafdb63392768287c",
            "a6b524e9fb68463f907439a602eccce9",
            "7a5ec5868833485f9440f2a8937e169b",
            "3b126d2c82e041ef920fb9c5ba872f74",
            "24c579cd9794435ea6a316ed477b51b1",
            "918e48e6123a4bcca7c481c15df729d2",
            "96133a8f883d4bea9603213b73524add",
            "45d56087b76b4ac58e84420f4ce1c453",
            "f810841fa1d448949e0539b520cc9d83",
            "79fe96d21f844fad961e855f31ded74a",
            "712ec9d31f1e44698c58181729fb97a8",
            "9f67ce0ffd674734b766dbe4846abab0",
            "970f9babd37b41bbb5089a7f2fc27743",
            "525c9395d58a41498b9d485d0143578a",
            "b3bf98784eec4bb4bd764161439ff63c",
            "6ce077d8ead54909899fc2c6748eb83c",
            "307b85c74f9a49feac27aa68bf40a853",
            "0418b98c5cd845c2980b29da9a4d69fe",
            "0d4c3c3f7e234bb696d3afee5091170e",
            "9a5e6c01dc454fb38f3d880dbb8f3e98",
            "eaebea8c9bec477d9193844d57b25fa3",
            "729363e1ade04f6392ee04d45fd6b5bb",
            "0f59d7ea4cf3472abaeb6acc0358991c",
            "f73f2ed0628146cfac6dce2758b95e2d",
            "e4eac00903f54789a5c8db91b55dcb3a",
            "40c3a44aad754070818c149c48ca5cdd",
            "e1219d8847804e5caf2781ba45c809c9",
            "a94fcc0f395a4e5ab70a44490bddce92",
            "86b66630ead141249f4dcc86041fb720",
            "d5a38749bec84c95ad0e5ab2432598c8",
            "e3128d3b68c74394a0202f30a03ece1c",
            "da8354667a484998a0ed1dac3e814dee"
          ]
        },
        "id": "kJcI14sX5qbk",
        "outputId": "d6b4379c-8d9c-4bcf-943e-f7b70ecae2ea"
      },
      "execution_count": 18,
      "outputs": [
        {
          "output_type": "stream",
          "name": "stderr",
          "text": [
            "/usr/local/lib/python3.10/dist-packages/huggingface_hub/utils/_token.py:89: UserWarning: \n",
            "The secret `HF_TOKEN` does not exist in your Colab secrets.\n",
            "To authenticate with the Hugging Face Hub, create a token in your settings tab (https://huggingface.co/settings/tokens), set it as secret in your Google Colab and restart your session.\n",
            "You will be able to reuse this secret in all of your notebooks.\n",
            "Please note that authentication is recommended but still optional to access public models or datasets.\n",
            "  warnings.warn(\n",
            "WARNING:sentence_transformers.SentenceTransformer:No sentence-transformers model found with name bert-base-uncased. Creating a new one with mean pooling.\n",
            "/usr/local/lib/python3.10/dist-packages/huggingface_hub/file_download.py:1132: FutureWarning: `resume_download` is deprecated and will be removed in version 1.0.0. Downloads always resume when possible. If you want to force a new download, use `force_download=True`.\n",
            "  warnings.warn(\n"
          ]
        },
        {
          "output_type": "display_data",
          "data": {
            "text/plain": [
              "config.json:   0%|          | 0.00/570 [00:00<?, ?B/s]"
            ],
            "application/vnd.jupyter.widget-view+json": {
              "version_major": 2,
              "version_minor": 0,
              "model_id": "d28efc76c68c459994b2bdba140fa5a9"
            }
          },
          "metadata": {}
        },
        {
          "output_type": "display_data",
          "data": {
            "text/plain": [
              "model.safetensors:   0%|          | 0.00/440M [00:00<?, ?B/s]"
            ],
            "application/vnd.jupyter.widget-view+json": {
              "version_major": 2,
              "version_minor": 0,
              "model_id": "589a2c7ea8d44a269bfb9edda98878bf"
            }
          },
          "metadata": {}
        },
        {
          "output_type": "display_data",
          "data": {
            "text/plain": [
              "tokenizer_config.json:   0%|          | 0.00/48.0 [00:00<?, ?B/s]"
            ],
            "application/vnd.jupyter.widget-view+json": {
              "version_major": 2,
              "version_minor": 0,
              "model_id": "9e93a9fa1c714e229f8596a566e13c2e"
            }
          },
          "metadata": {}
        },
        {
          "output_type": "display_data",
          "data": {
            "text/plain": [
              "vocab.txt:   0%|          | 0.00/232k [00:00<?, ?B/s]"
            ],
            "application/vnd.jupyter.widget-view+json": {
              "version_major": 2,
              "version_minor": 0,
              "model_id": "712ec9d31f1e44698c58181729fb97a8"
            }
          },
          "metadata": {}
        },
        {
          "output_type": "display_data",
          "data": {
            "text/plain": [
              "tokenizer.json:   0%|          | 0.00/466k [00:00<?, ?B/s]"
            ],
            "application/vnd.jupyter.widget-view+json": {
              "version_major": 2,
              "version_minor": 0,
              "model_id": "729363e1ade04f6392ee04d45fd6b5bb"
            }
          },
          "metadata": {}
        }
      ]
    },
    {
      "cell_type": "code",
      "source": [
        "def calculate_similarity(jobreq, cv_text):\n",
        "    # Encode job requirement and CV text to get embeddings\n",
        "    embeddings_jobreq = model.encode(jobreq)\n",
        "    embeddings_cv = model.encode(cv_text)\n",
        "\n",
        "    # Normalize embeddings\n",
        "    embeddings_jobreq_norm = tf.nn.l2_normalize(embeddings_jobreq, axis=0)\n",
        "    embeddings_cv_norm = tf.nn.l2_normalize(embeddings_cv, axis=0)\n",
        "\n",
        "    # Compute cosine similarity\n",
        "    similarity_score = tf.tensordot(embeddings_jobreq_norm, embeddings_cv_norm, axes=1).numpy()\n",
        "\n",
        "    return similarity_score"
      ],
      "metadata": {
        "id": "MVF4h1AgEPqB"
      },
      "execution_count": 19,
      "outputs": []
    },
    {
      "cell_type": "code",
      "source": [
        "candidate_output = []\n",
        "for candidate in modified_candidates:\n",
        "    candidate_id = candidate[\"id\"]\n",
        "    cv_text = candidate[\"cv_text\"]\n",
        "    similarity_score = calculate_similarity(jobreq, cv_text)\n",
        "    candidate_output.append({\n",
        "        \"id\": candidate_id,\n",
        "        \"similarity\": float(similarity_score) * 100\n",
        "    })\n",
        "\n",
        "print(json.dumps(candidate_output, indent=2))"
      ],
      "metadata": {
        "colab": {
          "base_uri": "https://localhost:8080/"
        },
        "id": "Qo362jSA5uGz",
        "outputId": "f1343f48-d0a8-4804-9aa3-83e01638643e"
      },
      "execution_count": 20,
      "outputs": [
        {
          "output_type": "stream",
          "name": "stdout",
          "text": [
            "[\n",
            "  {\n",
            "    \"id\": 1,\n",
            "    \"similarity\": 62.6092255115509\n",
            "  },\n",
            "  {\n",
            "    \"id\": 2,\n",
            "    \"similarity\": 70.23965120315552\n",
            "  }\n",
            "]\n"
          ]
        }
      ]
    },
    {
      "cell_type": "code",
      "source": [
        "def sort_candidates_by_similarity(candidate_output):\n",
        "    sorted_candidates = sorted(candidate_output, key=lambda x: x['similarity'], reverse=True)\n",
        "    return sorted_candidates"
      ],
      "metadata": {
        "id": "5aZu97wuHEO7"
      },
      "execution_count": 21,
      "outputs": []
    },
    {
      "cell_type": "code",
      "source": [
        "sorted_candidates = sort_candidates_by_similarity(candidate_output)"
      ],
      "metadata": {
        "id": "-qdzhBGHHFaL"
      },
      "execution_count": 22,
      "outputs": []
    },
    {
      "cell_type": "code",
      "source": [
        "sorted_candidates"
      ],
      "metadata": {
        "colab": {
          "base_uri": "https://localhost:8080/"
        },
        "id": "nN5HlDZZHR1t",
        "outputId": "01945feb-c0b3-409d-c467-c747d669ba68"
      },
      "execution_count": 23,
      "outputs": [
        {
          "output_type": "execute_result",
          "data": {
            "text/plain": [
              "[{'id': 2, 'similarity': 70.23965120315552},\n",
              " {'id': 1, 'similarity': 62.6092255115509}]"
            ]
          },
          "metadata": {},
          "execution_count": 23
        }
      ]
    }
  ]
}