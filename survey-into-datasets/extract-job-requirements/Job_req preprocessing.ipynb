{
 "cells": [
  {
   "cell_type": "markdown",
   "id": "c951f99b",
   "metadata": {},
   "source": [
    "# Import libraries"
   ]
  },
  {
   "cell_type": "code",
   "execution_count": 1,
   "id": "2cb0c9c8",
   "metadata": {},
   "outputs": [
    {
     "name": "stdout",
     "output_type": "stream",
     "text": [
      "Collecting Sastrawi\n",
      "  Using cached Sastrawi-1.0.1-py2.py3-none-any.whl (209 kB)\n",
      "Installing collected packages: Sastrawi\n",
      "Successfully installed Sastrawi-1.0.1\n",
      "Note: you may need to restart the kernel to use updated packages.\n"
     ]
    }
   ],
   "source": [
    "pip install Sastrawi"
   ]
  },
  {
   "cell_type": "code",
   "execution_count": 2,
   "id": "6d785cfe",
   "metadata": {},
   "outputs": [],
   "source": [
    "import pandas as pd\n",
    "import tensorflow as tf\n",
    "import string\n",
    "import nltk\n",
    "from nltk.corpus import stopwords\n",
    "from nltk.tokenize import word_tokenize\n",
    "from Sastrawi.StopWordRemover.StopWordRemoverFactory import StopWordRemoverFactory\n",
    "from nltk.stem import WordNetLemmatizer\n",
    "from Sastrawi.Stemmer.StemmerFactory import StemmerFactory\n",
    "import re"
   ]
  },
  {
   "cell_type": "code",
   "execution_count": 3,
   "id": "97bb6c97",
   "metadata": {},
   "outputs": [
    {
     "name": "stderr",
     "output_type": "stream",
     "text": [
      "[nltk_data] Downloading package punkt to\n",
      "[nltk_data]     C:\\Users\\ASUS\\AppData\\Roaming\\nltk_data...\n",
      "[nltk_data]   Package punkt is already up-to-date!\n",
      "[nltk_data] Downloading package stopwords to\n",
      "[nltk_data]     C:\\Users\\ASUS\\AppData\\Roaming\\nltk_data...\n",
      "[nltk_data]   Package stopwords is already up-to-date!\n",
      "[nltk_data] Downloading package wordnet to\n",
      "[nltk_data]     C:\\Users\\ASUS\\AppData\\Roaming\\nltk_data...\n",
      "[nltk_data]   Package wordnet is already up-to-date!\n"
     ]
    },
    {
     "data": {
      "text/plain": [
       "True"
      ]
     },
     "execution_count": 3,
     "metadata": {},
     "output_type": "execute_result"
    }
   ],
   "source": [
    "nltk.download('punkt')\n",
    "nltk.download('stopwords')\n",
    "nltk.download('wordnet')"
   ]
  },
  {
   "cell_type": "markdown",
   "id": "0d15b8e1",
   "metadata": {},
   "source": [
    "### Load the dataset"
   ]
  },
  {
   "cell_type": "code",
   "execution_count": 4,
   "id": "d1e55fc7",
   "metadata": {},
   "outputs": [
    {
     "name": "stdout",
     "output_type": "stream",
     "text": [
      "<class 'pandas.core.frame.DataFrame'>\n",
      "RangeIndex: 122 entries, 0 to 121\n",
      "Data columns (total 9 columns):\n",
      " #   Column            Non-Null Count  Dtype  \n",
      "---  ------            --------------  -----  \n",
      " 0   job_title         122 non-null    object \n",
      " 1   industry          122 non-null    object \n",
      " 2   location          122 non-null    object \n",
      " 3   type              122 non-null    object \n",
      " 4   minimum_job_year  122 non-null    int64  \n",
      " 5   needed            122 non-null    int64  \n",
      " 6   company_name      122 non-null    object \n",
      " 7   Requirements      122 non-null    object \n",
      " 8   Unnamed: 8        0 non-null      float64\n",
      "dtypes: float64(1), int64(2), object(6)\n",
      "memory usage: 8.7+ KB\n",
      "None\n"
     ]
    }
   ],
   "source": [
    "# Load the dataset\n",
    "job_data = pd.read_csv('Job_req.csv')\n",
    "\n",
    "# Print the initial information about the dataset\n",
    "print(job_data.info())"
   ]
  },
  {
   "cell_type": "code",
   "execution_count": 5,
   "id": "96f73133",
   "metadata": {},
   "outputs": [
    {
     "name": "stdout",
     "output_type": "stream",
     "text": [
      "<class 'pandas.core.frame.DataFrame'>\n",
      "RangeIndex: 122 entries, 0 to 121\n",
      "Data columns (total 8 columns):\n",
      " #   Column            Non-Null Count  Dtype \n",
      "---  ------            --------------  ----- \n",
      " 0   job_title         122 non-null    object\n",
      " 1   industry          122 non-null    object\n",
      " 2   location          122 non-null    object\n",
      " 3   type              122 non-null    object\n",
      " 4   minimum_job_year  122 non-null    int64 \n",
      " 5   needed            122 non-null    int64 \n",
      " 6   company_name      122 non-null    object\n",
      " 7   Requirements      122 non-null    object\n",
      "dtypes: int64(2), object(6)\n",
      "memory usage: 7.8+ KB\n",
      "None\n"
     ]
    }
   ],
   "source": [
    "# Drop columns with all NaN values (which will include any unnamed columns like 'Unnamed: 8')\n",
    "job_data = job_data.dropna(axis=1, how='all')\n",
    "\n",
    "# Verify the columns are dropped\n",
    "print(job_data.info())"
   ]
  },
  {
   "cell_type": "code",
   "execution_count": null,
   "id": "d02c420d",
   "metadata": {},
   "outputs": [],
   "source": [
    "from bs4 import BeautifulSoup\n",
    "import re\n",
    "# Function to remove HTML tags and ensure spaces are preserved\n",
    "def clean_html(text):\n",
    "    soup = BeautifulSoup(text, \"html.parser\")\n",
    "    # Remove the tags and get text with spaces preserved\n",
    "    cleaned_text = ' '.join(soup.stripped_strings)\n",
    "    return cleaned_text\n",
    "\n",
    "# Apply the clean_html function to the 'description' column\n",
    "job_data['description'] = job_data['description'].apply(clean_html)"
   ]
  },
  {
   "cell_type": "markdown",
   "id": "5ed7e474",
   "metadata": {},
   "source": [
    "### Normalize text"
   ]
  },
  {
   "cell_type": "markdown",
   "id": "dba2d539",
   "metadata": {},
   "source": [
    "#### 1. Remove Punctuation"
   ]
  },
  {
   "cell_type": "code",
   "execution_count": 6,
   "id": "5f274521",
   "metadata": {},
   "outputs": [],
   "source": [
    "# Define a function to remove punctuation using TensorFlow\n",
    "def remove_punctuation_tf(text_tensor):\n",
    "    # Define the regular expression for punctuation\n",
    "    regex_pattern = r'[{}]'.format(string.punctuation)\n",
    "    # Replace punctuation with an empty string\n",
    "    return tf.strings.regex_replace(text_tensor, regex_pattern, '')"
   ]
  },
  {
   "cell_type": "code",
   "execution_count": 7,
   "id": "ee1441f9",
   "metadata": {},
   "outputs": [],
   "source": [
    "# Convert the 'Requirements' column to a TensorFlow tensor\n",
    "requirements_tensor = tf.convert_to_tensor(job_data['Requirements'].values, dtype=tf.string)"
   ]
  },
  {
   "cell_type": "code",
   "execution_count": 8,
   "id": "d297ef13",
   "metadata": {},
   "outputs": [],
   "source": [
    "# Remove punctuation using the defined function\n",
    "requirements_tensor = remove_punctuation_tf(requirements_tensor)"
   ]
  },
  {
   "cell_type": "markdown",
   "id": "af260437",
   "metadata": {},
   "source": [
    "#### 2. Lowercase"
   ]
  },
  {
   "cell_type": "code",
   "execution_count": 9,
   "id": "edb65319",
   "metadata": {},
   "outputs": [],
   "source": [
    "# Define a function to convert text to lowercase using TensorFlow\n",
    "def to_lower_case_tf(text_tensor):\n",
    "    # Convert text to lowercase\n",
    "    return tf.strings.lower(text_tensor)"
   ]
  },
  {
   "cell_type": "code",
   "execution_count": 10,
   "id": "8efa857e",
   "metadata": {},
   "outputs": [],
   "source": [
    "# Convert text to lowercase using the defined function\n",
    "requirements_tensor = to_lower_case_tf(requirements_tensor)"
   ]
  },
  {
   "cell_type": "markdown",
   "id": "6a636fe9",
   "metadata": {},
   "source": [
    "#### 3. Join multi-lines into a single line"
   ]
  },
  {
   "cell_type": "code",
   "execution_count": 11,
   "id": "4372b38f",
   "metadata": {},
   "outputs": [],
   "source": [
    "# Convert the tensor back to a NumPy array and then to a DataFrame column\n",
    "job_data['Requirements'] = requirements_tensor.numpy().astype(str)\n",
    "# Join multi-line text into a single line\n",
    "job_data['Requirements'] = job_data['Requirements'].apply(lambda x: \" \".join(x.split('\\n')))"
   ]
  },
  {
   "cell_type": "markdown",
   "id": "03e316b8",
   "metadata": {},
   "source": [
    "Verify the changes"
   ]
  },
  {
   "cell_type": "code",
   "execution_count": 12,
   "id": "0a9e6ff0",
   "metadata": {},
   "outputs": [
    {
     "name": "stdout",
     "output_type": "stream",
     "text": [
      "0    the ideal candidate for this position will hav...\n",
      "1    the ideal candidate for this position will hav...\n",
      "2    a successful candidate for the junior project ...\n",
      "3    we are currently seeking a candidate for the p...\n",
      "4    as a designer it is essential to understand ho...\n",
      "Name: Requirements, dtype: object\n"
     ]
    }
   ],
   "source": [
    "print(job_data['Requirements'].head())"
   ]
  },
  {
   "cell_type": "markdown",
   "id": "52a24e8a",
   "metadata": {},
   "source": [
    "#### 4. Remove Stopwords"
   ]
  },
  {
   "cell_type": "code",
   "execution_count": 13,
   "id": "134aeeac",
   "metadata": {},
   "outputs": [],
   "source": [
    "# Define English stopwords\n",
    "english_stop_words = set(stopwords.words('english'))\n",
    "english_stop_words.add('http')"
   ]
  },
  {
   "cell_type": "code",
   "execution_count": 14,
   "id": "b7e74461",
   "metadata": {},
   "outputs": [],
   "source": [
    "# Define Indonesian stopwords using Sastrawi library\n",
    "stopword_factory = StopWordRemoverFactory()\n",
    "indonesian_stop_words = set(stopword_factory.get_stop_words())"
   ]
  },
  {
   "cell_type": "code",
   "execution_count": 15,
   "id": "41bb21ba",
   "metadata": {},
   "outputs": [
    {
     "name": "stdout",
     "output_type": "stream",
     "text": [
      "{'against', 'this', 'dulunya', 'some', 're', 'before', 'hadn', 'herself', 'of', 'yakni', 'having', 'yourselves', 'shouldn', 'sebagai', 'yang', 'mereka', 'at', 'few', 'isn', \"wouldn't\", 'and', 'she', 'pada', 'dst', 'menurut', \"it's\", 'all', 'dari', 'setidaknya', 'yours', 'her', \"mustn't\", 'hanya', 't', 'dalam', 'bahwa', 'bagaimanapun', 'you', 'i', 'if', 'itulah', 'aren', \"aren't\", 'seolah', 'them', 'such', 'oh', 'kah', \"don't\", 'y', \"couldn't\", 'sesuatu', 'juga', 'amat', 'doesn', 'harus', 'kami', 'had', 'weren', 'pun', 'sedangkan', 'themselves', 'sesudah', 'm', 'lain', 'maka', 'dll', 'under', 'there', 'selain', 'he', 'para', \"hadn't\", 'our', 'same', 'tetapi', 'sebelum', 'by', \"haven't\", 'now', 'wasn', 'masih', \"should've\", 'mustn', 'are', 'pula', 'just', 'saya', 'kemana', 'pasti', 'himself', 'agak', 'lagi', 'll', \"that'll\", 'theirs', 'terhadap', 'namun', \"you've\", 'again', 'these', 'because', 'nanti', 'doing', 'most', 'here', 'tolong', 'so', 'my', 'whom', 'karena', 'other', 'seraya', 'anda', 'mari', 'kita', \"didn't\", \"needn't\", \"mightn't\", 'has', \"isn't\", 'needn', 'setiap', 'oleh', 'anu', 'adalah', 'been', 'dapat', 'can', 'own', 'ours', 'have', 'guna', 'sudah', 'for', 'should', 'on', 'http', 'dimana', 'me', 'into', 'why', \"weren't\", 'yourself', 'its', 'kenapa', 'sebab', 'begitu', 'antara', 'that', 'ma', 'below', 'about', 've', 'off', 'any', 'a', 'above', 'when', 'o', 'dan', 'walau', 'his', 'seterusnya', 'kecuali', 'hal', 'tanpa', 'ke', 'agar', 'sebetulnya', 'did', 'then', 'not', 'saja', 'mengapa', 'it', 'wouldn', 'were', 'do', 'haven', 'ourselves', 'untuk', 'kepada', 'who', 'each', 'does', 'him', 'after', 'or', 'itself', 'with', \"wasn't\", 'mightn', \"shan't\", 'ain', 'your', 'seperti', 'tapi', 'serta', 'itu', 'ada', 'yaitu', 'further', 'during', 'apakah', \"she's\", 'ia', \"doesn't\", 'out', 'nggak', 'hers', 'too', 'didn', 'daripada', 'but', 'telah', 'we', 'how', 'which', 'be', 'tentang', 'di', 'from', 'only', 'selagi', 'being', 'dengan', 'while', 'will', 'no', 'tidak', 'they', 'setelah', 'dsb', 'dia', 'their', 'supaya', 'toh', 'the', 'was', 'an', 'belum', 'sampai', 's', \"won't\", 'more', 'sekitar', 'kembali', \"you'll\", 'am', 'until', 'hasn', 'ketika', 'saat', 'seharusnya', 'jika', 'dahulu', 'up', 'both', 'boleh', 'than', 'couldn', 'tentu', \"you'd\", 'secara', 'apalagi', 'ok', 'over', 'demikian', 'in', 'sehingga', 'melainkan', 'once', 'akan', 'bisa', 'don', 'those', 'ya', 'nor', 'ini', \"shouldn't\", 'd', 'ingin', 'where', 'myself', 'atau', 'bagi', 'very', \"you're\", 'what', 'down', 'demi', 'as', 'sementara', 'through', 'between', 'to', \"hasn't\", 'sambil', 'dua', 'won', 'shan', 'is'}\n"
     ]
    }
   ],
   "source": [
    "# Combine English and Indonesian stopwords\n",
    "all_stop_words = english_stop_words.union(indonesian_stop_words)\n",
    "print(all_stop_words)"
   ]
  },
  {
   "cell_type": "code",
   "execution_count": 16,
   "id": "65435bf1",
   "metadata": {},
   "outputs": [],
   "source": [
    "# Function to remove stopwords\n",
    "def remove_stopwords(text):\n",
    "    # Tokenize the text\n",
    "    words = word_tokenize(text)\n",
    "    # Remove stopwords\n",
    "    filtered_words = [word for word in words if word.lower() not in all_stop_words]\n",
    "    # Join the filtered words back into a string\n",
    "    filtered_text = ' '.join(filtered_words)\n",
    "    return filtered_text"
   ]
  },
  {
   "cell_type": "code",
   "execution_count": 17,
   "id": "0c7bfc14",
   "metadata": {},
   "outputs": [],
   "source": [
    "# Apply stopwords removal to the 'Requirements' column\n",
    "job_data['Requirements'] = job_data['Requirements'].apply(remove_stopwords)"
   ]
  },
  {
   "cell_type": "code",
   "execution_count": 20,
   "id": "10559f16",
   "metadata": {},
   "outputs": [
    {
     "name": "stdout",
     "output_type": "stream",
     "text": [
      "\n",
      "Remove stopwords actions:\n",
      "0    ideal candidate position minimum 5 years exper...\n",
      "1    ideal candidate position strong technical back...\n",
      "2    successful candidate junior project manager po...\n",
      "3    currently seeking candidate position accountan...\n",
      "4    designer essential understand plan conduct des...\n",
      "Name: Requirements, dtype: object\n"
     ]
    }
   ],
   "source": [
    "# Verify the changes\n",
    "print(\"\\nRemove stopwords actions:\")\n",
    "print(job_data['Requirements'].head())"
   ]
  },
  {
   "cell_type": "markdown",
   "id": "4bf5a74e",
   "metadata": {},
   "source": [
    "#### 5. Remove extra spaces"
   ]
  },
  {
   "cell_type": "code",
   "execution_count": 21,
   "id": "10acd437",
   "metadata": {},
   "outputs": [],
   "source": [
    "# Define a function to remove extra spaces\n",
    "def remove_extra_spaces(text):\n",
    "    return re.sub(' +', ' ', text)"
   ]
  },
  {
   "cell_type": "code",
   "execution_count": 22,
   "id": "29eefbfa",
   "metadata": {},
   "outputs": [],
   "source": [
    "# Remove extra spaces\n",
    "job_data['Requirements'] = job_data['Requirements'].apply(remove_extra_spaces)"
   ]
  },
  {
   "cell_type": "markdown",
   "id": "dcf8f46a",
   "metadata": {},
   "source": [
    "#### 6. Apply Lemmatization for both English and Indonesian words"
   ]
  },
  {
   "cell_type": "code",
   "execution_count": 23,
   "id": "0f55f652",
   "metadata": {},
   "outputs": [],
   "source": [
    "# Function to lemmatize English words\n",
    "def lemmatize_english(text):\n",
    "    lemmatizer = WordNetLemmatizer()\n",
    "    return \" \".join([lemmatizer.lemmatize(word) for word in text.split()])"
   ]
  },
  {
   "cell_type": "code",
   "execution_count": 24,
   "id": "c4b25052",
   "metadata": {},
   "outputs": [],
   "source": [
    "# Function to stem Indonesian words\n",
    "def stem_indonesian(text):\n",
    "    factory = StemmerFactory()\n",
    "    stemmer = factory.create_stemmer()\n",
    "    return stemmer.stem(text)"
   ]
  },
  {
   "cell_type": "code",
   "execution_count": 26,
   "id": "52bc7cf2",
   "metadata": {},
   "outputs": [],
   "source": [
    "# Apply lemmatization for English text\n",
    "job_data['Requirements'] = job_data['Requirements'].apply(lemmatize_english)"
   ]
  },
  {
   "cell_type": "code",
   "execution_count": 27,
   "id": "ac03faa1",
   "metadata": {},
   "outputs": [],
   "source": [
    "# Apply stemming for Indonesian text\n",
    "job_data['Requirements'] = job_data['Requirements'].apply(stem_indonesian)"
   ]
  },
  {
   "cell_type": "code",
   "execution_count": 28,
   "id": "e005ba30",
   "metadata": {},
   "outputs": [
    {
     "name": "stdout",
     "output_type": "stream",
     "text": [
      "0    ideal candidate position minimum 5 year experi...\n",
      "1    ideal candidate position strong technical back...\n",
      "2    successful candidate junior project manager po...\n",
      "3    currently seeking candidate position accountan...\n",
      "4    designer essential understand plan conduct des...\n",
      "Name: Requirements, dtype: object\n"
     ]
    }
   ],
   "source": [
    "# Verify the changes\n",
    "print(job_data['Requirements'].head())"
   ]
  }
 ],
 "metadata": {
  "kernelspec": {
   "display_name": "Python 3",
   "language": "python",
   "name": "python3"
  },
  "language_info": {
   "codemirror_mode": {
    "name": "ipython",
    "version": 3
   },
   "file_extension": ".py",
   "mimetype": "text/x-python",
   "name": "python",
   "nbconvert_exporter": "python",
   "pygments_lexer": "ipython3",
   "version": "3.8.8"
  },
  "widgets": {
   "application/vnd.jupyter.widget-state+json": {
    "state": {},
    "version_major": 2,
    "version_minor": 0
   }
  }
 },
 "nbformat": 4,
 "nbformat_minor": 5
}
